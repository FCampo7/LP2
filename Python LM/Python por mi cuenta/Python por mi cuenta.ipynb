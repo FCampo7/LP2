{
 "metadata": {
  "language_info": {
   "codemirror_mode": {
    "name": "ipython",
    "version": 3
   },
   "file_extension": ".py",
   "mimetype": "text/x-python",
   "name": "python",
   "nbconvert_exporter": "python",
   "pygments_lexer": "ipython3",
   "version": "3.9.6"
  },
  "orig_nbformat": 4,
  "kernelspec": {
   "name": "python3",
   "display_name": "Python 3.9.6 64-bit ('Python39')"
  },
  "interpreter": {
   "hash": "63fd5069d213b44bf678585dea6b12cceca9941eaf7f819626cde1f2670de90d"
  }
 },
 "nbformat": 4,
 "nbformat_minor": 2,
 "cells": [
  {
   "cell_type": "code",
   "execution_count": 1,
   "metadata": {},
   "outputs": [],
   "source": [
    "import pandas as pd\n",
    "import numpy as np\n",
    "import datetime as dt"
   ]
  },
  {
   "source": [
    "# Ejercicio 1\n",
    "\n",
    "Escribir un programa que pregunte al usuario por las ventas de un rango de años y muestre por pantalla una serie con los datos de las ventas indexada por los años, antes y después de aplicarles un descuento del 10%."
   ],
   "cell_type": "markdown",
   "metadata": {}
  },
  {
   "cell_type": "code",
   "execution_count": 2,
   "metadata": {},
   "outputs": [
    {
     "output_type": "stream",
     "name": "stdout",
     "text": [
      "Ventas\n 2015     20000.0\n2016      2002.0\n2017    231023.0\n2018    203023.0\n2019     30203.0\n2020       320.0\n2021      3232.0\n2022       323.0\n2023       432.0\n2024      4234.0\n2025      2342.0\n2026      2345.0\n2027     23435.0\n2028      2323.0\n2029      2225.0\n2030    564643.0\ndtype: float64\nVentas con descuento\n 2015     18000.0\n2016      1801.8\n2017    207920.7\n2018    182720.7\n2019     27182.7\n2020       288.0\n2021      2908.8\n2022       290.7\n2023       388.8\n2024      3810.6\n2025      2107.8\n2026      2110.5\n2027     21091.5\n2028      2090.7\n2029      2002.5\n2030    508178.7\ndtype: float64\n"
     ]
    }
   ],
   "source": [
    "inicio = int(input('Introduce el año inicial: '))\n",
    "fin = int(input('Introduce el año final: '))\n",
    "ventas = {}\n",
    "for i in range(inicio, fin+1):\n",
    "    ventas[i] = float(input('Introduce las ventas del año ' + str(i) +': '))\n",
    "ventas = pd.Series(ventas)\n",
    "print('Ventas\\n', ventas)\n",
    "print('Ventas con descuento\\n', ventas*0.9)"
   ]
  },
  {
   "source": [
    "# Ejercicio 2\n",
    "\n",
    "Escribir una función que reciba una diccionario con las notas de los alumnos en curso en un examen y devuelva una serie con la nota mínima, la máxima, media y la desviación típica."
   ],
   "cell_type": "markdown",
   "metadata": {}
  },
  {
   "cell_type": "code",
   "execution_count": 3,
   "metadata": {},
   "outputs": [
    {
     "output_type": "stream",
     "name": "stdout",
     "text": [
      "Min                  4.000000\nMax                  9.000000\nMedia                6.600000\nDesviación típica    2.162175\ndtype: float64\n"
     ]
    }
   ],
   "source": [
    "def estadistica_notas(notas):\n",
    "    notas = pd.Series(notas)\n",
    "    estadisticos = pd.Series([notas.min(), notas.max(), notas.mean(), notas.std()], index=['Min', 'Max', 'Media', 'Desviación típica'])\n",
    "    return estadisticos\n",
    "\n",
    "notas = {'Juan':9, 'María':6.5, 'Pedro':4, 'Carmen': 8.5, 'Luis': 5}\n",
    "print(estadistica_notas(notas))"
   ]
  },
  {
   "source": [
    "# Ejercicio 3\n",
    "\n",
    "Escribir una función que reciba una diccionario con las notas de los alumnos en curso en un examen y devuelva una serie con las notas de los alumnos aprobados ordenadas de mayor a menor."
   ],
   "cell_type": "markdown",
   "metadata": {}
  },
  {
   "cell_type": "code",
   "execution_count": 4,
   "metadata": {},
   "outputs": [
    {
     "output_type": "stream",
     "name": "stdout",
     "text": [
      "Juan      9.0\nCarmen    8.5\nMaría     6.5\nLuis      5.0\ndtype: float64\n"
     ]
    }
   ],
   "source": [
    "def aprobados(notas):\n",
    "    notas = pd.Series(notas)\n",
    "    return notas[notas >= 5].sort_values(ascending=False)\n",
    "\n",
    "notas = {'Juan':9, 'María':6.5, 'Pedro':4, 'Carmen': 8.5, 'Luis': 5}\n",
    "print(aprobados(notas))"
   ]
  },
  {
   "source": [
    "# Ejercicio 4\n",
    "\n",
    "Escribir programa que genere y muestre por pantalla un DataFrame con los datos de la tabla siguiente:\n",
    "\n",
    "| Mes     | Ventas | Gastos |\n",
    "| ------- | -----: | -----: |\n",
    "| Enero   |  30500 |  22000 |\n",
    "| Febrero |  35600 |  23400 |\n",
    "| Marzo   |  28300 |  18100 |\n",
    "| Abril   |  33900 |  20700 |"
   ],
   "cell_type": "markdown",
   "metadata": {}
  },
  {
   "cell_type": "code",
   "execution_count": 5,
   "metadata": {},
   "outputs": [
    {
     "output_type": "stream",
     "name": "stdout",
     "text": [
      "       Mes  Ventas  Gastos\n0    Enero   30500   22000\n1  Febrero   35600   23400\n2    Marzo   28300   18100\n3    Abril   33900   20700\n"
     ]
    }
   ],
   "source": [
    "datos = {'Mes':['Enero', 'Febrero', 'Marzo', 'Abril'], 'Ventas':[30500, 35600, 28300, 33900], 'Gastos':[22000, 23400, 18100, 20700]}\n",
    "contabilidad = pd.DataFrame(datos)\n",
    "print(contabilidad)"
   ]
  },
  {
   "source": [
    "# Ejercicio 5\n",
    "\n",
    "Escribir una función que reciba un DataFrame con el formato del ejercicio anterior, una lista de meses, y devuelva el balance (ventas - gastos) total en los meses indicados."
   ],
   "cell_type": "markdown",
   "metadata": {}
  },
  {
   "source": [
    "def fBalance(df, m):\n",
    "    df['Balance']=df.Ventas-df.Gastos\n",
    "    return df[df.Mes.isin(m)].Balance.sum()\n",
    "\n",
    "datos = {'Mes':['Enero', 'Febrero', 'Marzo', 'Abril'], 'Ventas':[30500, 35600, 28300, 33900], 'Gastos':[22000, 23400, 18100, 20700]}\n",
    "contabilidad = pd.DataFrame(datos)\n",
    "\n",
    "meses=['Enero', 'Febrero']\n",
    "\n",
    "print(fBalance(contabilidad, meses))"
   ],
   "cell_type": "code",
   "metadata": {},
   "execution_count": 6,
   "outputs": [
    {
     "output_type": "stream",
     "name": "stdout",
     "text": [
      "20700\n"
     ]
    }
   ]
  },
  {
   "source": [
    "# Ejercicio 6\n",
    "\n",
    "El fichero cotizacion.csv contiene las cotizaciones de las empresas del IBEX35 con las siguientes columnas: nombre (nombre de la empresa), Final (precio de la acción al cierre de bolsa), Máximo (precio máximo de la acción durante la jornada), Mínimo (precio mínimo de la acción durante la jornada), volumen (Volumen al cierre de bolsa), Efectivo (capitalización al cierre en miles de euros). Construir una función que construya un DataFrame a partir del un fichero con el formato anterior y devuelva otro DataFrame con el mínimo, el máximo y la media de dada columna."
   ],
   "cell_type": "markdown",
   "metadata": {}
  },
  {
   "cell_type": "code",
   "execution_count": 7,
   "metadata": {},
   "outputs": [
    {
     "output_type": "execute_result",
     "data": {
      "text/plain": [
       "               Final        Máximo        Mínimo    Volumen    Efectivo\n",
       "Mínimo      1.016500      4.067500      1.016500  1.054.847    2343.090\n",
       "Máximo  19705.000000  19875.000000  19675.000000     99.506  145765.440\n",
       "Media    2796.768757   3170.113357   3136.510471        NaN   31767.778"
      ],
      "text/html": "<div>\n<style scoped>\n    .dataframe tbody tr th:only-of-type {\n        vertical-align: middle;\n    }\n\n    .dataframe tbody tr th {\n        vertical-align: top;\n    }\n\n    .dataframe thead th {\n        text-align: right;\n    }\n</style>\n<table border=\"1\" class=\"dataframe\">\n  <thead>\n    <tr style=\"text-align: right;\">\n      <th></th>\n      <th>Final</th>\n      <th>Máximo</th>\n      <th>Mínimo</th>\n      <th>Volumen</th>\n      <th>Efectivo</th>\n    </tr>\n  </thead>\n  <tbody>\n    <tr>\n      <th>Mínimo</th>\n      <td>1.016500</td>\n      <td>4.067500</td>\n      <td>1.016500</td>\n      <td>1.054.847</td>\n      <td>2343.090</td>\n    </tr>\n    <tr>\n      <th>Máximo</th>\n      <td>19705.000000</td>\n      <td>19875.000000</td>\n      <td>19675.000000</td>\n      <td>99.506</td>\n      <td>145765.440</td>\n    </tr>\n    <tr>\n      <th>Media</th>\n      <td>2796.768757</td>\n      <td>3170.113357</td>\n      <td>3136.510471</td>\n      <td>NaN</td>\n      <td>31767.778</td>\n    </tr>\n  </tbody>\n</table>\n</div>"
     },
     "metadata": {},
     "execution_count": 7
    }
   ],
   "source": [
    "def resumen_cotizaciones(fichero):\n",
    "    df = pd.read_csv(fichero, sep=';', decimal=',', index_col=0)\n",
    "    return pd.DataFrame([df.min(), df.max(), df.mean()], index=['Mínimo', 'Máximo', 'Media'])\n",
    "\n",
    "resumen_cotizaciones('cotizacion.csv')"
   ]
  },
  {
   "source": [
    "# Ejercicio 7\n",
    "\n",
    "El fichero titanic.csv contiene información sobre los pasajeros del Titanic. Escribir un programa con los siguientes requisitos:\n",
    "\n",
    "1. [x] Generar un DataFrame con los datos del fichero.\n",
    "1. [x] Mostrar por pantalla las dimensiones del DataFrame, el número de datos que contiene, los nombres de sus columnas y filas, los tipos de datos de las columnas, las 10 primeras filas y las 10 últimas filas\n",
    "2. [x] Mostrar por pantalla los datos del pasajero con identificador 148.\n",
    "3. [x] Mostrar por pantalla las filas pares del DataFrame.\n",
    "4. [x] Mostrar por pantalla los nombres de las personas que iban en primera clase ordenadas alfabéticamente.\n",
    "5. [x] Mostrar por pantalla el porcentaje de personas que sobrevivieron y murieron.\n",
    "6. [x] Mostrar por pantalla el porcentaje de personas que sobrevivieron en cada clase.\n",
    "7. [x] Eliminar del DataFrame los pasajeros con edad desconocida.\n",
    "8. [x] Mostrar por pantalla la edad media de las mujeres que viajaban en cada clase.\n",
    "9. [x] Añadir una nueva columna booleana para ver si el pasajero era menor de edad o no.\n",
    "10. [x] Mostrar por pantalla el porcentaje de menores y mayores de edad que sobrevivieron en cada clase."
   ],
   "cell_type": "markdown",
   "metadata": {}
  },
  {
   "cell_type": "code",
   "execution_count": 8,
   "metadata": {},
   "outputs": [
    {
     "output_type": "stream",
     "name": "stdout",
     "text": [
      "             Survived  Pclass  \\\nPassengerId                     \n1                   0       3   \n2                   1       1   \n3                   1       3   \n4                   1       1   \n5                   0       3   \n...               ...     ...   \n887                 0       2   \n888                 1       1   \n889                 0       3   \n890                 1       1   \n891                 0       3   \n\n                                                          Name     Sex   Age  \\\nPassengerId                                                                    \n1                                      Braund, Mr. Owen Harris    male  22.0   \n2            Cumings, Mrs. John Bradley (Florence Briggs Th...  female  38.0   \n3                                       Heikkinen, Miss. Laina  female  26.0   \n4                 Futrelle, Mrs. Jacques Heath (Lily May Peel)  female  35.0   \n5                                     Allen, Mr. William Henry    male  35.0   \n...                                                        ...     ...   ...   \n887                                      Montvila, Rev. Juozas    male  27.0   \n888                               Graham, Miss. Margaret Edith  female  19.0   \n889                   Johnston, Miss. Catherine Helen \"Carrie\"  female   NaN   \n890                                      Behr, Mr. Karl Howell    male  26.0   \n891                                        Dooley, Mr. Patrick    male  32.0   \n\n             SibSp  Parch            Ticket     Fare Cabin Embarked  \nPassengerId                                                          \n1                1      0         A/5 21171   7.2500   NaN        S  \n2                1      0          PC 17599  71.2833   C85        C  \n3                0      0  STON/O2. 3101282   7.9250   NaN        S  \n4                1      0            113803  53.1000  C123        S  \n5                0      0            373450   8.0500   NaN        S  \n...            ...    ...               ...      ...   ...      ...  \n887              0      0            211536  13.0000   NaN        S  \n888              0      0            112053  30.0000   B42        S  \n889              1      2        W./C. 6607  23.4500   NaN        S  \n890              0      0            111369  30.0000  C148        C  \n891              0      0            370376   7.7500   NaN        Q  \n\n[891 rows x 11 columns]\n"
     ]
    }
   ],
   "source": [
    "df = pd.read_csv('titanic.csv', sep=',', decimal='.', index_col=0)\n",
    "print(df)"
   ]
  },
  {
   "cell_type": "code",
   "execution_count": 9,
   "metadata": {},
   "outputs": [
    {
     "output_type": "stream",
     "name": "stdout",
     "text": [
      "Dimensiones:  (891, 11)\nNúmero de datos:  9801\nNombres de columnas:  Index(['Survived', 'Pclass', 'Name', 'Sex', 'Age', 'SibSp', 'Parch', 'Ticket',\n       'Fare', 'Cabin', 'Embarked'],\n      dtype='object')\nNombres de filas:  Int64Index([  1,   2,   3,   4,   5,   6,   7,   8,   9,  10,\n            ...\n            882, 883, 884, 885, 886, 887, 888, 889, 890, 891],\n           dtype='int64', name='PassengerId', length=891)\nTipos de datos de las columnas:  Survived      int64\nPclass        int64\nName         object\nSex          object\nAge         float64\nSibSp         int64\nParch         int64\nTicket       object\nFare        float64\nCabin        object\nEmbarked     object\ndtype: object\n10 primeras filas:               Survived  Pclass  \\\nPassengerId                     \n1                   0       3   \n2                   1       1   \n3                   1       3   \n4                   1       1   \n5                   0       3   \n6                   0       3   \n7                   0       1   \n8                   0       3   \n9                   1       3   \n10                  1       2   \n\n                                                          Name     Sex   Age  \\\nPassengerId                                                                    \n1                                      Braund, Mr. Owen Harris    male  22.0   \n2            Cumings, Mrs. John Bradley (Florence Briggs Th...  female  38.0   \n3                                       Heikkinen, Miss. Laina  female  26.0   \n4                 Futrelle, Mrs. Jacques Heath (Lily May Peel)  female  35.0   \n5                                     Allen, Mr. William Henry    male  35.0   \n6                                             Moran, Mr. James    male   NaN   \n7                                      McCarthy, Mr. Timothy J    male  54.0   \n8                               Palsson, Master. Gosta Leonard    male   2.0   \n9            Johnson, Mrs. Oscar W (Elisabeth Vilhelmina Berg)  female  27.0   \n10                         Nasser, Mrs. Nicholas (Adele Achem)  female  14.0   \n\n             SibSp  Parch            Ticket     Fare Cabin Embarked  \nPassengerId                                                          \n1                1      0         A/5 21171   7.2500   NaN        S  \n2                1      0          PC 17599  71.2833   C85        C  \n3                0      0  STON/O2. 3101282   7.9250   NaN        S  \n4                1      0            113803  53.1000  C123        S  \n5                0      0            373450   8.0500   NaN        S  \n6                0      0            330877   8.4583   NaN        Q  \n7                0      0             17463  51.8625   E46        S  \n8                3      1            349909  21.0750   NaN        S  \n9                0      2            347742  11.1333   NaN        S  \n10               1      0            237736  30.0708   NaN        C  \n10 ultimas filas:               Survived  Pclass                                      Name  \\\nPassengerId                                                               \n882                 0       3                        Markun, Mr. Johann   \n883                 0       3              Dahlberg, Miss. Gerda Ulrika   \n884                 0       2             Banfield, Mr. Frederick James   \n885                 0       3                    Sutehall, Mr. Henry Jr   \n886                 0       3      Rice, Mrs. William (Margaret Norton)   \n887                 0       2                     Montvila, Rev. Juozas   \n888                 1       1              Graham, Miss. Margaret Edith   \n889                 0       3  Johnston, Miss. Catherine Helen \"Carrie\"   \n890                 1       1                     Behr, Mr. Karl Howell   \n891                 0       3                       Dooley, Mr. Patrick   \n\n                Sex   Age  SibSp  Parch            Ticket     Fare Cabin  \\\nPassengerId                                                                \n882            male  33.0      0      0            349257   7.8958   NaN   \n883          female  22.0      0      0              7552  10.5167   NaN   \n884            male  28.0      0      0  C.A./SOTON 34068  10.5000   NaN   \n885            male  25.0      0      0   SOTON/OQ 392076   7.0500   NaN   \n886          female  39.0      0      5            382652  29.1250   NaN   \n887            male  27.0      0      0            211536  13.0000   NaN   \n888          female  19.0      0      0            112053  30.0000   B42   \n889          female   NaN      1      2        W./C. 6607  23.4500   NaN   \n890            male  26.0      0      0            111369  30.0000  C148   \n891            male  32.0      0      0            370376   7.7500   NaN   \n\n            Embarked  \nPassengerId           \n882                S  \n883                S  \n884                S  \n885                S  \n886                Q  \n887                S  \n888                S  \n889                S  \n890                C  \n891                Q  \n"
     ]
    }
   ],
   "source": [
    "# 2. Mostrar por pantalla las dimensiones del DataFrame, el número de datos que contiene, los nombres de sus columnas y filas, los tipos de datos de las columnas, las 10 primeras filas y las 10 últimas filas\n",
    "print(\"Dimensiones: \", df.shape)\n",
    "print(\"Número de datos: \", df.size)\n",
    "print(\"Nombres de columnas: \", df.columns)\n",
    "print(\"Nombres de filas: \", df.index)\n",
    "print(\"Tipos de datos de las columnas: \", df.dtypes)\n",
    "print(\"10 primeras filas: \", df.head(10))\n",
    "print(\"10 ultimas filas: \", df.tail(10))"
   ]
  },
  {
   "cell_type": "code",
   "execution_count": 10,
   "metadata": {},
   "outputs": [
    {
     "output_type": "stream",
     "name": "stdout",
     "text": [
      "Pasajero con el id 148:  Survived                                   0\nPclass                                     3\nName        Ford, Miss. Robina Maggie \"Ruby\"\nSex                                   female\nAge                                      9.0\nSibSp                                      2\nParch                                      2\nTicket                            W./C. 6608\nFare                                  34.375\nCabin                                    NaN\nEmbarked                                   S\nName: 148, dtype: object\n"
     ]
    }
   ],
   "source": [
    "# 3. Mostrar por pantalla los datos del pasajero con identificador 148.\n",
    "\n",
    "print(\"Pasajero con el id 148: \", df.loc[148])"
   ]
  },
  {
   "cell_type": "code",
   "execution_count": 11,
   "metadata": {},
   "outputs": [
    {
     "output_type": "stream",
     "name": "stdout",
     "text": [
      "Filas pares:               Survived  Pclass  \\\nPassengerId                     \n1                   0       3   \n3                   1       3   \n5                   0       3   \n7                   0       1   \n9                   1       3   \n...               ...     ...   \n883                 0       3   \n885                 0       3   \n887                 0       2   \n889                 0       3   \n891                 0       3   \n\n                                                          Name     Sex   Age  \\\nPassengerId                                                                    \n1                                      Braund, Mr. Owen Harris    male  22.0   \n3                                       Heikkinen, Miss. Laina  female  26.0   \n5                                     Allen, Mr. William Henry    male  35.0   \n7                                      McCarthy, Mr. Timothy J    male  54.0   \n9            Johnson, Mrs. Oscar W (Elisabeth Vilhelmina Berg)  female  27.0   \n...                                                        ...     ...   ...   \n883                               Dahlberg, Miss. Gerda Ulrika  female  22.0   \n885                                     Sutehall, Mr. Henry Jr    male  25.0   \n887                                      Montvila, Rev. Juozas    male  27.0   \n889                   Johnston, Miss. Catherine Helen \"Carrie\"  female   NaN   \n891                                        Dooley, Mr. Patrick    male  32.0   \n\n             SibSp  Parch            Ticket     Fare Cabin Embarked  \nPassengerId                                                          \n1                1      0         A/5 21171   7.2500   NaN        S  \n3                0      0  STON/O2. 3101282   7.9250   NaN        S  \n5                0      0            373450   8.0500   NaN        S  \n7                0      0             17463  51.8625   E46        S  \n9                0      2            347742  11.1333   NaN        S  \n...            ...    ...               ...      ...   ...      ...  \n883              0      0              7552  10.5167   NaN        S  \n885              0      0   SOTON/OQ 392076   7.0500   NaN        S  \n887              0      0            211536  13.0000   NaN        S  \n889              1      2        W./C. 6607  23.4500   NaN        S  \n891              0      0            370376   7.7500   NaN        Q  \n\n[446 rows x 11 columns]\n"
     ]
    }
   ],
   "source": [
    "# 4. Mostrar por pantalla las filas pares del DataFrame.\n",
    "print(\"Filas pares: \", df.iloc[0:df.shape[0]:2])"
   ]
  },
  {
   "cell_type": "code",
   "execution_count": 12,
   "metadata": {},
   "outputs": [
    {
     "output_type": "stream",
     "name": "stdout",
     "text": [
      "PassengerId\n731                      Allen, Miss. Elisabeth Walton\n306                     Allison, Master. Hudson Trevor\n298                       Allison, Miss. Helen Loraine\n499    Allison, Mrs. Hudson J C (Bessie Waldo Daniels)\n461                                Anderson, Mr. Harry\n                            ...                       \n156                        Williams, Mr. Charles Duane\n352             Williams-Lambert, Mr. Fletcher Fellows\n56                                   Woolner, Mr. Hugh\n556                                 Wright, Mr. George\n326                           Young, Miss. Marie Grice\nName: Name, Length: 216, dtype: object\n"
     ]
    }
   ],
   "source": [
    "# 5. Mostrar por pantalla los nombres de las personas que iban en primera clase ordenadas alfabéticamente.\n",
    "\n",
    "print(df[df.Pclass==1]['Name'].sort_values())"
   ]
  },
  {
   "cell_type": "code",
   "execution_count": 13,
   "metadata": {},
   "outputs": [
    {
     "output_type": "stream",
     "name": "stdout",
     "text": [
      "0    61.616162\n1    38.383838\nName: Survived, dtype: float64\n"
     ]
    }
   ],
   "source": [
    "# 6. Mostrar por pantalla el porcentaje de personas que sobrevivieron y murieron.\n",
    "\n",
    "print(df.Survived.value_counts()/df.Survived.count()*100)"
   ]
  },
  {
   "cell_type": "code",
   "execution_count": 14,
   "metadata": {},
   "outputs": [
    {
     "output_type": "stream",
     "name": "stdout",
     "text": [
      "Pclass  Survived\n1       1           62.962963\n        0           37.037037\n2       0           52.717391\n        1           47.282609\n3       0           75.763747\n        1           24.236253\nName: Survived, dtype: float64\n"
     ]
    }
   ],
   "source": [
    "# 7. Mostrar por pantalla el porcentaje de personas que sobrevivieron en cada clase.\n",
    "\n",
    "print(df.groupby('Pclass')['Survived'].value_counts()/df.groupby('Pclass')['Survived'].count()*100)"
   ]
  },
  {
   "cell_type": "code",
   "execution_count": 15,
   "metadata": {},
   "outputs": [
    {
     "output_type": "execute_result",
     "data": {
      "text/plain": [
       "             Survived  Pclass  \\\n",
       "PassengerId                     \n",
       "1                   0       3   \n",
       "2                   1       1   \n",
       "3                   1       3   \n",
       "4                   1       1   \n",
       "5                   0       3   \n",
       "...               ...     ...   \n",
       "886                 0       3   \n",
       "887                 0       2   \n",
       "888                 1       1   \n",
       "890                 1       1   \n",
       "891                 0       3   \n",
       "\n",
       "                                                          Name     Sex   Age  \\\n",
       "PassengerId                                                                    \n",
       "1                                      Braund, Mr. Owen Harris    male  22.0   \n",
       "2            Cumings, Mrs. John Bradley (Florence Briggs Th...  female  38.0   \n",
       "3                                       Heikkinen, Miss. Laina  female  26.0   \n",
       "4                 Futrelle, Mrs. Jacques Heath (Lily May Peel)  female  35.0   \n",
       "5                                     Allen, Mr. William Henry    male  35.0   \n",
       "...                                                        ...     ...   ...   \n",
       "886                       Rice, Mrs. William (Margaret Norton)  female  39.0   \n",
       "887                                      Montvila, Rev. Juozas    male  27.0   \n",
       "888                               Graham, Miss. Margaret Edith  female  19.0   \n",
       "890                                      Behr, Mr. Karl Howell    male  26.0   \n",
       "891                                        Dooley, Mr. Patrick    male  32.0   \n",
       "\n",
       "             SibSp  Parch            Ticket     Fare Cabin Embarked  \n",
       "PassengerId                                                          \n",
       "1                1      0         A/5 21171   7.2500   NaN        S  \n",
       "2                1      0          PC 17599  71.2833   C85        C  \n",
       "3                0      0  STON/O2. 3101282   7.9250   NaN        S  \n",
       "4                1      0            113803  53.1000  C123        S  \n",
       "5                0      0            373450   8.0500   NaN        S  \n",
       "...            ...    ...               ...      ...   ...      ...  \n",
       "886              0      5            382652  29.1250   NaN        Q  \n",
       "887              0      0            211536  13.0000   NaN        S  \n",
       "888              0      0            112053  30.0000   B42        S  \n",
       "890              0      0            111369  30.0000  C148        C  \n",
       "891              0      0            370376   7.7500   NaN        Q  \n",
       "\n",
       "[714 rows x 11 columns]"
      ],
      "text/html": "<div>\n<style scoped>\n    .dataframe tbody tr th:only-of-type {\n        vertical-align: middle;\n    }\n\n    .dataframe tbody tr th {\n        vertical-align: top;\n    }\n\n    .dataframe thead th {\n        text-align: right;\n    }\n</style>\n<table border=\"1\" class=\"dataframe\">\n  <thead>\n    <tr style=\"text-align: right;\">\n      <th></th>\n      <th>Survived</th>\n      <th>Pclass</th>\n      <th>Name</th>\n      <th>Sex</th>\n      <th>Age</th>\n      <th>SibSp</th>\n      <th>Parch</th>\n      <th>Ticket</th>\n      <th>Fare</th>\n      <th>Cabin</th>\n      <th>Embarked</th>\n    </tr>\n    <tr>\n      <th>PassengerId</th>\n      <th></th>\n      <th></th>\n      <th></th>\n      <th></th>\n      <th></th>\n      <th></th>\n      <th></th>\n      <th></th>\n      <th></th>\n      <th></th>\n      <th></th>\n    </tr>\n  </thead>\n  <tbody>\n    <tr>\n      <th>1</th>\n      <td>0</td>\n      <td>3</td>\n      <td>Braund, Mr. Owen Harris</td>\n      <td>male</td>\n      <td>22.0</td>\n      <td>1</td>\n      <td>0</td>\n      <td>A/5 21171</td>\n      <td>7.2500</td>\n      <td>NaN</td>\n      <td>S</td>\n    </tr>\n    <tr>\n      <th>2</th>\n      <td>1</td>\n      <td>1</td>\n      <td>Cumings, Mrs. John Bradley (Florence Briggs Th...</td>\n      <td>female</td>\n      <td>38.0</td>\n      <td>1</td>\n      <td>0</td>\n      <td>PC 17599</td>\n      <td>71.2833</td>\n      <td>C85</td>\n      <td>C</td>\n    </tr>\n    <tr>\n      <th>3</th>\n      <td>1</td>\n      <td>3</td>\n      <td>Heikkinen, Miss. Laina</td>\n      <td>female</td>\n      <td>26.0</td>\n      <td>0</td>\n      <td>0</td>\n      <td>STON/O2. 3101282</td>\n      <td>7.9250</td>\n      <td>NaN</td>\n      <td>S</td>\n    </tr>\n    <tr>\n      <th>4</th>\n      <td>1</td>\n      <td>1</td>\n      <td>Futrelle, Mrs. Jacques Heath (Lily May Peel)</td>\n      <td>female</td>\n      <td>35.0</td>\n      <td>1</td>\n      <td>0</td>\n      <td>113803</td>\n      <td>53.1000</td>\n      <td>C123</td>\n      <td>S</td>\n    </tr>\n    <tr>\n      <th>5</th>\n      <td>0</td>\n      <td>3</td>\n      <td>Allen, Mr. William Henry</td>\n      <td>male</td>\n      <td>35.0</td>\n      <td>0</td>\n      <td>0</td>\n      <td>373450</td>\n      <td>8.0500</td>\n      <td>NaN</td>\n      <td>S</td>\n    </tr>\n    <tr>\n      <th>...</th>\n      <td>...</td>\n      <td>...</td>\n      <td>...</td>\n      <td>...</td>\n      <td>...</td>\n      <td>...</td>\n      <td>...</td>\n      <td>...</td>\n      <td>...</td>\n      <td>...</td>\n      <td>...</td>\n    </tr>\n    <tr>\n      <th>886</th>\n      <td>0</td>\n      <td>3</td>\n      <td>Rice, Mrs. William (Margaret Norton)</td>\n      <td>female</td>\n      <td>39.0</td>\n      <td>0</td>\n      <td>5</td>\n      <td>382652</td>\n      <td>29.1250</td>\n      <td>NaN</td>\n      <td>Q</td>\n    </tr>\n    <tr>\n      <th>887</th>\n      <td>0</td>\n      <td>2</td>\n      <td>Montvila, Rev. Juozas</td>\n      <td>male</td>\n      <td>27.0</td>\n      <td>0</td>\n      <td>0</td>\n      <td>211536</td>\n      <td>13.0000</td>\n      <td>NaN</td>\n      <td>S</td>\n    </tr>\n    <tr>\n      <th>888</th>\n      <td>1</td>\n      <td>1</td>\n      <td>Graham, Miss. Margaret Edith</td>\n      <td>female</td>\n      <td>19.0</td>\n      <td>0</td>\n      <td>0</td>\n      <td>112053</td>\n      <td>30.0000</td>\n      <td>B42</td>\n      <td>S</td>\n    </tr>\n    <tr>\n      <th>890</th>\n      <td>1</td>\n      <td>1</td>\n      <td>Behr, Mr. Karl Howell</td>\n      <td>male</td>\n      <td>26.0</td>\n      <td>0</td>\n      <td>0</td>\n      <td>111369</td>\n      <td>30.0000</td>\n      <td>C148</td>\n      <td>C</td>\n    </tr>\n    <tr>\n      <th>891</th>\n      <td>0</td>\n      <td>3</td>\n      <td>Dooley, Mr. Patrick</td>\n      <td>male</td>\n      <td>32.0</td>\n      <td>0</td>\n      <td>0</td>\n      <td>370376</td>\n      <td>7.7500</td>\n      <td>NaN</td>\n      <td>Q</td>\n    </tr>\n  </tbody>\n</table>\n<p>714 rows × 11 columns</p>\n</div>"
     },
     "metadata": {},
     "execution_count": 15
    }
   ],
   "source": [
    "# 8. Eliminar del DataFrame los pasajeros con edad desconocida.\n",
    "df.dropna(subset=[\"Age\"])"
   ]
  },
  {
   "cell_type": "code",
   "execution_count": 16,
   "metadata": {},
   "outputs": [
    {
     "output_type": "stream",
     "name": "stdout",
     "text": [
      "Pclass\n1    34.611765\n2    28.722973\n3    21.750000\nName: female, dtype: float64\n"
     ]
    }
   ],
   "source": [
    "# 9. Mostrar por pantalla la edad media de las mujeres que viajaban en cada clase.\n",
    "\n",
    "print(df.groupby(['Pclass', 'Sex'])['Age'].mean().unstack()['female'])"
   ]
  },
  {
   "cell_type": "code",
   "execution_count": 17,
   "metadata": {},
   "outputs": [],
   "source": [
    "# 10. Añadir una nueva columna booleana para ver si el pasajero era menor de edad o no.\n",
    "df['Menor']=df.Age<18"
   ]
  },
  {
   "cell_type": "code",
   "execution_count": 18,
   "metadata": {},
   "outputs": [
    {
     "output_type": "stream",
     "name": "stdout",
     "text": [
      "Pclass  Menor  Survived\n1       False  1           61.274510\n               0           38.725490\n        True   1           91.666667\n               0            8.333333\n2       False  0           59.006211\n               1           40.993789\n        True   1           91.304348\n               0            8.695652\n3       False  0           78.208232\n               1           21.791768\n        True   0           62.820513\n               1           37.179487\nName: Survived, dtype: float64\n"
     ]
    }
   ],
   "source": [
    "# 11. Mostrar por pantalla el porcentaje de menores y mayores de edad que sobrevivieron en cada clase.\n",
    "print(df.groupby(['Pclass', 'Menor'])['Survived'].value_counts(normalize=True) * 100)"
   ]
  },
  {
   "source": [
    "# Ejercicio 8\n",
    "\n",
    "Los ficheros emisiones-2016.csv, emisiones-2017.csv, emisiones-2018.csv y emisiones-2019.csv, contienen datos sobre las emisiones contaminates en la ciudad de Madrid en los años 2016, 2017, 2018 y 2019 respectivamente. Escribir un programa con los siguientes requisitos:\n",
    "\n",
    "1. Generar un DataFrame con los datos de los cuatro ficheros.\n",
    "2. Filtrar las columnas del DataFrame para quedarse con las columnas ESTACION, MAGNITUD, AÑO, MES y las correspondientes a los días D01, D02, etc.\n",
    "3. Reestructurar el DataFrame para que los valores de los contaminantes de las columnas de los días aparezcan en una única columna.\n",
    "4. Añadir una columna con la fecha a partir de la concatenación del año, el mes y el día (usar el módulo datetime).\n",
    "5. Eliminar las filas con fechas no válidas (utilizar la función isnat del módulo numpy) y ordenar el DataFrame por estaciones, contaminantes y fecha.\n",
    "6. Mostrar por pantalla las estaciones y los contaminantes disponibles en el DataFrame.\n",
    "7. Crear una función que reciba una estación, un contaminante y un rango de fechas y devuelva una serie con las emisiones del contaminante dado en la estación y rango de fechas dado.\n",
    "8. Mostrar un resumen descriptivo (mímino, máximo, media, etc) para cada contaminante.\n",
    "9. Mostrar un resumen descriptivo para cada contaminente por distritos.\n",
    "10. Crear una función que reciba una estación y un contaminante y devuelva un resumen descriptivo de las emisiones del contaminante indicado en la estadión indicada.\n",
    "11. Crear una función que devuelva las emisiones medias mensuales de un contaminante y un año dados para todos las estaciones.\n",
    "12. Crear un función que reciba una estación de medición y devuelva un DataFrame con las medias mensuales de los distintos tipos de contaminantes."
   ],
   "cell_type": "markdown",
   "metadata": {}
  },
  {
   "cell_type": "code",
   "execution_count": 19,
   "metadata": {},
   "outputs": [
    {
     "output_type": "execute_result",
     "data": {
      "text/plain": [
       "      PROVINCIA  MUNICIPIO  ESTACION  MAGNITUD PUNTO_MUESTREO   ANO  MES  \\\n",
       "0            28         79         4         1  28079004_1_38  2016    1   \n",
       "1            28         79         4         1  28079004_1_38  2016    2   \n",
       "2            28         79         4         1  28079004_1_38  2016    3   \n",
       "3            28         79         4         1  28079004_1_38  2016    4   \n",
       "4            28         79         4         1  28079004_1_38  2016    5   \n",
       "...         ...        ...       ...       ...            ...   ...  ...   \n",
       "1831         28         79        60        14  28079060_14_6  2019    8   \n",
       "1832         28         79        60        14  28079060_14_6  2019    9   \n",
       "1833         28         79        60        14  28079060_14_6  2019   10   \n",
       "1834         28         79        60        14  28079060_14_6  2019   11   \n",
       "1835         28         79        60        14  28079060_14_6  2019   12   \n",
       "\n",
       "       D01 V01    D02  ...   D27  V27   D28  V28   D29  V29    D30  V30   D31  \\\n",
       "0      8.0   V    7.0  ...   9.0    V   7.0    V   8.0    V    9.0    V   9.0   \n",
       "1     12.0   V   13.0  ...   7.0    V   8.0    V   9.0    V    0.0    N   0.0   \n",
       "2     11.0   V   10.0  ...   8.0    V   7.0    V   8.0    V   10.0    V   8.0   \n",
       "3      8.0   V    9.0  ...   9.0    V   8.0    V   8.0    V    8.0    V   0.0   \n",
       "4      7.0   V    8.0  ...   7.0    V   7.0    V   7.0    V    7.0    V   7.0   \n",
       "...    ...  ..    ...  ...   ...  ...   ...  ...   ...  ...    ...  ...   ...   \n",
       "1831  94.0   V  104.0  ...  88.0    V  90.0    V  99.0    V  108.0    V  98.0   \n",
       "1832  88.0   V   82.0  ...  54.0    V  68.0    V  70.0    V   55.0    V   0.0   \n",
       "1833  44.0   V   75.0  ...  28.0    V  33.0    V  16.0    V   19.0    V  47.0   \n",
       "1834  41.0   V   55.0  ...  55.0    V  52.0    V  47.0    V   56.0    V   0.0   \n",
       "1835  47.0   V   53.0  ...  17.0    V  13.0    V  14.0    V    5.0    V   4.0   \n",
       "\n",
       "      V31  \n",
       "0       V  \n",
       "1       N  \n",
       "2       V  \n",
       "3       N  \n",
       "4       V  \n",
       "...   ...  \n",
       "1831    V  \n",
       "1832    N  \n",
       "1833    V  \n",
       "1834    N  \n",
       "1835    V  \n",
       "\n",
       "[7266 rows x 69 columns]"
      ],
      "text/html": "<div>\n<style scoped>\n    .dataframe tbody tr th:only-of-type {\n        vertical-align: middle;\n    }\n\n    .dataframe tbody tr th {\n        vertical-align: top;\n    }\n\n    .dataframe thead th {\n        text-align: right;\n    }\n</style>\n<table border=\"1\" class=\"dataframe\">\n  <thead>\n    <tr style=\"text-align: right;\">\n      <th></th>\n      <th>PROVINCIA</th>\n      <th>MUNICIPIO</th>\n      <th>ESTACION</th>\n      <th>MAGNITUD</th>\n      <th>PUNTO_MUESTREO</th>\n      <th>ANO</th>\n      <th>MES</th>\n      <th>D01</th>\n      <th>V01</th>\n      <th>D02</th>\n      <th>...</th>\n      <th>D27</th>\n      <th>V27</th>\n      <th>D28</th>\n      <th>V28</th>\n      <th>D29</th>\n      <th>V29</th>\n      <th>D30</th>\n      <th>V30</th>\n      <th>D31</th>\n      <th>V31</th>\n    </tr>\n  </thead>\n  <tbody>\n    <tr>\n      <th>0</th>\n      <td>28</td>\n      <td>79</td>\n      <td>4</td>\n      <td>1</td>\n      <td>28079004_1_38</td>\n      <td>2016</td>\n      <td>1</td>\n      <td>8.0</td>\n      <td>V</td>\n      <td>7.0</td>\n      <td>...</td>\n      <td>9.0</td>\n      <td>V</td>\n      <td>7.0</td>\n      <td>V</td>\n      <td>8.0</td>\n      <td>V</td>\n      <td>9.0</td>\n      <td>V</td>\n      <td>9.0</td>\n      <td>V</td>\n    </tr>\n    <tr>\n      <th>1</th>\n      <td>28</td>\n      <td>79</td>\n      <td>4</td>\n      <td>1</td>\n      <td>28079004_1_38</td>\n      <td>2016</td>\n      <td>2</td>\n      <td>12.0</td>\n      <td>V</td>\n      <td>13.0</td>\n      <td>...</td>\n      <td>7.0</td>\n      <td>V</td>\n      <td>8.0</td>\n      <td>V</td>\n      <td>9.0</td>\n      <td>V</td>\n      <td>0.0</td>\n      <td>N</td>\n      <td>0.0</td>\n      <td>N</td>\n    </tr>\n    <tr>\n      <th>2</th>\n      <td>28</td>\n      <td>79</td>\n      <td>4</td>\n      <td>1</td>\n      <td>28079004_1_38</td>\n      <td>2016</td>\n      <td>3</td>\n      <td>11.0</td>\n      <td>V</td>\n      <td>10.0</td>\n      <td>...</td>\n      <td>8.0</td>\n      <td>V</td>\n      <td>7.0</td>\n      <td>V</td>\n      <td>8.0</td>\n      <td>V</td>\n      <td>10.0</td>\n      <td>V</td>\n      <td>8.0</td>\n      <td>V</td>\n    </tr>\n    <tr>\n      <th>3</th>\n      <td>28</td>\n      <td>79</td>\n      <td>4</td>\n      <td>1</td>\n      <td>28079004_1_38</td>\n      <td>2016</td>\n      <td>4</td>\n      <td>8.0</td>\n      <td>V</td>\n      <td>9.0</td>\n      <td>...</td>\n      <td>9.0</td>\n      <td>V</td>\n      <td>8.0</td>\n      <td>V</td>\n      <td>8.0</td>\n      <td>V</td>\n      <td>8.0</td>\n      <td>V</td>\n      <td>0.0</td>\n      <td>N</td>\n    </tr>\n    <tr>\n      <th>4</th>\n      <td>28</td>\n      <td>79</td>\n      <td>4</td>\n      <td>1</td>\n      <td>28079004_1_38</td>\n      <td>2016</td>\n      <td>5</td>\n      <td>7.0</td>\n      <td>V</td>\n      <td>8.0</td>\n      <td>...</td>\n      <td>7.0</td>\n      <td>V</td>\n      <td>7.0</td>\n      <td>V</td>\n      <td>7.0</td>\n      <td>V</td>\n      <td>7.0</td>\n      <td>V</td>\n      <td>7.0</td>\n      <td>V</td>\n    </tr>\n    <tr>\n      <th>...</th>\n      <td>...</td>\n      <td>...</td>\n      <td>...</td>\n      <td>...</td>\n      <td>...</td>\n      <td>...</td>\n      <td>...</td>\n      <td>...</td>\n      <td>...</td>\n      <td>...</td>\n      <td>...</td>\n      <td>...</td>\n      <td>...</td>\n      <td>...</td>\n      <td>...</td>\n      <td>...</td>\n      <td>...</td>\n      <td>...</td>\n      <td>...</td>\n      <td>...</td>\n      <td>...</td>\n    </tr>\n    <tr>\n      <th>1831</th>\n      <td>28</td>\n      <td>79</td>\n      <td>60</td>\n      <td>14</td>\n      <td>28079060_14_6</td>\n      <td>2019</td>\n      <td>8</td>\n      <td>94.0</td>\n      <td>V</td>\n      <td>104.0</td>\n      <td>...</td>\n      <td>88.0</td>\n      <td>V</td>\n      <td>90.0</td>\n      <td>V</td>\n      <td>99.0</td>\n      <td>V</td>\n      <td>108.0</td>\n      <td>V</td>\n      <td>98.0</td>\n      <td>V</td>\n    </tr>\n    <tr>\n      <th>1832</th>\n      <td>28</td>\n      <td>79</td>\n      <td>60</td>\n      <td>14</td>\n      <td>28079060_14_6</td>\n      <td>2019</td>\n      <td>9</td>\n      <td>88.0</td>\n      <td>V</td>\n      <td>82.0</td>\n      <td>...</td>\n      <td>54.0</td>\n      <td>V</td>\n      <td>68.0</td>\n      <td>V</td>\n      <td>70.0</td>\n      <td>V</td>\n      <td>55.0</td>\n      <td>V</td>\n      <td>0.0</td>\n      <td>N</td>\n    </tr>\n    <tr>\n      <th>1833</th>\n      <td>28</td>\n      <td>79</td>\n      <td>60</td>\n      <td>14</td>\n      <td>28079060_14_6</td>\n      <td>2019</td>\n      <td>10</td>\n      <td>44.0</td>\n      <td>V</td>\n      <td>75.0</td>\n      <td>...</td>\n      <td>28.0</td>\n      <td>V</td>\n      <td>33.0</td>\n      <td>V</td>\n      <td>16.0</td>\n      <td>V</td>\n      <td>19.0</td>\n      <td>V</td>\n      <td>47.0</td>\n      <td>V</td>\n    </tr>\n    <tr>\n      <th>1834</th>\n      <td>28</td>\n      <td>79</td>\n      <td>60</td>\n      <td>14</td>\n      <td>28079060_14_6</td>\n      <td>2019</td>\n      <td>11</td>\n      <td>41.0</td>\n      <td>V</td>\n      <td>55.0</td>\n      <td>...</td>\n      <td>55.0</td>\n      <td>V</td>\n      <td>52.0</td>\n      <td>V</td>\n      <td>47.0</td>\n      <td>V</td>\n      <td>56.0</td>\n      <td>V</td>\n      <td>0.0</td>\n      <td>N</td>\n    </tr>\n    <tr>\n      <th>1835</th>\n      <td>28</td>\n      <td>79</td>\n      <td>60</td>\n      <td>14</td>\n      <td>28079060_14_6</td>\n      <td>2019</td>\n      <td>12</td>\n      <td>47.0</td>\n      <td>V</td>\n      <td>53.0</td>\n      <td>...</td>\n      <td>17.0</td>\n      <td>V</td>\n      <td>13.0</td>\n      <td>V</td>\n      <td>14.0</td>\n      <td>V</td>\n      <td>5.0</td>\n      <td>V</td>\n      <td>4.0</td>\n      <td>V</td>\n    </tr>\n  </tbody>\n</table>\n<p>7266 rows × 69 columns</p>\n</div>"
     },
     "metadata": {},
     "execution_count": 19
    }
   ],
   "source": [
    "# 1. Generar un DataFrame con los datos de los cuatro ficheros.\n",
    "\n",
    "emisiones_2016 = pd.read_csv('emisiones-2016.csv', sep = \";\")\n",
    "emisiones_2017 = pd.read_csv('emisiones-2017.csv', sep = \";\")\n",
    "emisiones_2018 = pd.read_csv('emisiones-2018.csv', sep = \";\")\n",
    "emisiones_2019 = pd.read_csv('emisiones-2019.csv', sep = \";\")\n",
    "\n",
    "emisiones = pd.concat([emisiones_2016, emisiones_2017, emisiones_2018, emisiones_2019])\n",
    "emisiones"
   ]
  },
  {
   "cell_type": "code",
   "execution_count": 20,
   "metadata": {},
   "outputs": [
    {
     "output_type": "execute_result",
     "data": {
      "text/plain": [
       "      ESTACION  MAGNITUD   ANO  MES   D01    D02    D03   D04   D05   D06  \\\n",
       "0            4         1  2016    1   8.0    7.0    6.0   6.0   7.0   6.0   \n",
       "1            4         1  2016    2  12.0   13.0    9.0   9.0  11.0   9.0   \n",
       "2            4         1  2016    3  11.0   10.0    9.0   9.0   7.0   8.0   \n",
       "3            4         1  2016    4   8.0    9.0    9.0   8.0   8.0   9.0   \n",
       "4            4         1  2016    5   7.0    8.0    9.0   9.0   8.0   8.0   \n",
       "...        ...       ...   ...  ...   ...    ...    ...   ...   ...   ...   \n",
       "1831        60        14  2019    8  94.0  104.0  106.0  99.0  77.0  82.0   \n",
       "1832        60        14  2019    9  88.0   82.0   80.0  92.0  79.0  75.0   \n",
       "1833        60        14  2019   10  44.0   75.0   44.0  54.0  65.0  68.0   \n",
       "1834        60        14  2019   11  41.0   55.0   79.0  65.0  64.0  51.0   \n",
       "1835        60        14  2019   12  47.0   53.0   45.0  44.0  49.0  41.0   \n",
       "\n",
       "      ...   D22   D23    D24   D25   D26   D27   D28   D29    D30   D31  \n",
       "0     ...  10.0  11.0   11.0  13.0  12.0   9.0   7.0   8.0    9.0   9.0  \n",
       "1     ...  11.0  10.0    9.0   8.0   7.0   7.0   8.0   9.0    0.0   0.0  \n",
       "2     ...   8.0   8.0    9.0   9.0   9.0   8.0   7.0   8.0   10.0   8.0  \n",
       "3     ...   8.0   8.0    8.0   8.0   9.0   9.0   8.0   8.0    8.0   0.0  \n",
       "4     ...   7.0   7.0    8.0   7.0   7.0   7.0   7.0   7.0    7.0   7.0  \n",
       "...   ...   ...   ...    ...   ...   ...   ...   ...   ...    ...   ...  \n",
       "1831  ...  86.0  97.0  104.0  96.0  85.0  88.0  90.0  99.0  108.0  98.0  \n",
       "1832  ...  59.0  46.0   49.0  69.0  57.0  54.0  68.0  70.0   55.0   0.0  \n",
       "1833  ...  37.0  39.0   45.0  21.0  23.0  28.0  33.0  16.0   19.0  47.0  \n",
       "1834  ...  38.0  75.0   69.0  45.0  35.0  55.0  52.0  47.0   56.0   0.0  \n",
       "1835  ...  68.0  36.0    9.0  11.0  10.0  17.0  13.0  14.0    5.0   4.0  \n",
       "\n",
       "[7266 rows x 35 columns]"
      ],
      "text/html": "<div>\n<style scoped>\n    .dataframe tbody tr th:only-of-type {\n        vertical-align: middle;\n    }\n\n    .dataframe tbody tr th {\n        vertical-align: top;\n    }\n\n    .dataframe thead th {\n        text-align: right;\n    }\n</style>\n<table border=\"1\" class=\"dataframe\">\n  <thead>\n    <tr style=\"text-align: right;\">\n      <th></th>\n      <th>ESTACION</th>\n      <th>MAGNITUD</th>\n      <th>ANO</th>\n      <th>MES</th>\n      <th>D01</th>\n      <th>D02</th>\n      <th>D03</th>\n      <th>D04</th>\n      <th>D05</th>\n      <th>D06</th>\n      <th>...</th>\n      <th>D22</th>\n      <th>D23</th>\n      <th>D24</th>\n      <th>D25</th>\n      <th>D26</th>\n      <th>D27</th>\n      <th>D28</th>\n      <th>D29</th>\n      <th>D30</th>\n      <th>D31</th>\n    </tr>\n  </thead>\n  <tbody>\n    <tr>\n      <th>0</th>\n      <td>4</td>\n      <td>1</td>\n      <td>2016</td>\n      <td>1</td>\n      <td>8.0</td>\n      <td>7.0</td>\n      <td>6.0</td>\n      <td>6.0</td>\n      <td>7.0</td>\n      <td>6.0</td>\n      <td>...</td>\n      <td>10.0</td>\n      <td>11.0</td>\n      <td>11.0</td>\n      <td>13.0</td>\n      <td>12.0</td>\n      <td>9.0</td>\n      <td>7.0</td>\n      <td>8.0</td>\n      <td>9.0</td>\n      <td>9.0</td>\n    </tr>\n    <tr>\n      <th>1</th>\n      <td>4</td>\n      <td>1</td>\n      <td>2016</td>\n      <td>2</td>\n      <td>12.0</td>\n      <td>13.0</td>\n      <td>9.0</td>\n      <td>9.0</td>\n      <td>11.0</td>\n      <td>9.0</td>\n      <td>...</td>\n      <td>11.0</td>\n      <td>10.0</td>\n      <td>9.0</td>\n      <td>8.0</td>\n      <td>7.0</td>\n      <td>7.0</td>\n      <td>8.0</td>\n      <td>9.0</td>\n      <td>0.0</td>\n      <td>0.0</td>\n    </tr>\n    <tr>\n      <th>2</th>\n      <td>4</td>\n      <td>1</td>\n      <td>2016</td>\n      <td>3</td>\n      <td>11.0</td>\n      <td>10.0</td>\n      <td>9.0</td>\n      <td>9.0</td>\n      <td>7.0</td>\n      <td>8.0</td>\n      <td>...</td>\n      <td>8.0</td>\n      <td>8.0</td>\n      <td>9.0</td>\n      <td>9.0</td>\n      <td>9.0</td>\n      <td>8.0</td>\n      <td>7.0</td>\n      <td>8.0</td>\n      <td>10.0</td>\n      <td>8.0</td>\n    </tr>\n    <tr>\n      <th>3</th>\n      <td>4</td>\n      <td>1</td>\n      <td>2016</td>\n      <td>4</td>\n      <td>8.0</td>\n      <td>9.0</td>\n      <td>9.0</td>\n      <td>8.0</td>\n      <td>8.0</td>\n      <td>9.0</td>\n      <td>...</td>\n      <td>8.0</td>\n      <td>8.0</td>\n      <td>8.0</td>\n      <td>8.0</td>\n      <td>9.0</td>\n      <td>9.0</td>\n      <td>8.0</td>\n      <td>8.0</td>\n      <td>8.0</td>\n      <td>0.0</td>\n    </tr>\n    <tr>\n      <th>4</th>\n      <td>4</td>\n      <td>1</td>\n      <td>2016</td>\n      <td>5</td>\n      <td>7.0</td>\n      <td>8.0</td>\n      <td>9.0</td>\n      <td>9.0</td>\n      <td>8.0</td>\n      <td>8.0</td>\n      <td>...</td>\n      <td>7.0</td>\n      <td>7.0</td>\n      <td>8.0</td>\n      <td>7.0</td>\n      <td>7.0</td>\n      <td>7.0</td>\n      <td>7.0</td>\n      <td>7.0</td>\n      <td>7.0</td>\n      <td>7.0</td>\n    </tr>\n    <tr>\n      <th>...</th>\n      <td>...</td>\n      <td>...</td>\n      <td>...</td>\n      <td>...</td>\n      <td>...</td>\n      <td>...</td>\n      <td>...</td>\n      <td>...</td>\n      <td>...</td>\n      <td>...</td>\n      <td>...</td>\n      <td>...</td>\n      <td>...</td>\n      <td>...</td>\n      <td>...</td>\n      <td>...</td>\n      <td>...</td>\n      <td>...</td>\n      <td>...</td>\n      <td>...</td>\n      <td>...</td>\n    </tr>\n    <tr>\n      <th>1831</th>\n      <td>60</td>\n      <td>14</td>\n      <td>2019</td>\n      <td>8</td>\n      <td>94.0</td>\n      <td>104.0</td>\n      <td>106.0</td>\n      <td>99.0</td>\n      <td>77.0</td>\n      <td>82.0</td>\n      <td>...</td>\n      <td>86.0</td>\n      <td>97.0</td>\n      <td>104.0</td>\n      <td>96.0</td>\n      <td>85.0</td>\n      <td>88.0</td>\n      <td>90.0</td>\n      <td>99.0</td>\n      <td>108.0</td>\n      <td>98.0</td>\n    </tr>\n    <tr>\n      <th>1832</th>\n      <td>60</td>\n      <td>14</td>\n      <td>2019</td>\n      <td>9</td>\n      <td>88.0</td>\n      <td>82.0</td>\n      <td>80.0</td>\n      <td>92.0</td>\n      <td>79.0</td>\n      <td>75.0</td>\n      <td>...</td>\n      <td>59.0</td>\n      <td>46.0</td>\n      <td>49.0</td>\n      <td>69.0</td>\n      <td>57.0</td>\n      <td>54.0</td>\n      <td>68.0</td>\n      <td>70.0</td>\n      <td>55.0</td>\n      <td>0.0</td>\n    </tr>\n    <tr>\n      <th>1833</th>\n      <td>60</td>\n      <td>14</td>\n      <td>2019</td>\n      <td>10</td>\n      <td>44.0</td>\n      <td>75.0</td>\n      <td>44.0</td>\n      <td>54.0</td>\n      <td>65.0</td>\n      <td>68.0</td>\n      <td>...</td>\n      <td>37.0</td>\n      <td>39.0</td>\n      <td>45.0</td>\n      <td>21.0</td>\n      <td>23.0</td>\n      <td>28.0</td>\n      <td>33.0</td>\n      <td>16.0</td>\n      <td>19.0</td>\n      <td>47.0</td>\n    </tr>\n    <tr>\n      <th>1834</th>\n      <td>60</td>\n      <td>14</td>\n      <td>2019</td>\n      <td>11</td>\n      <td>41.0</td>\n      <td>55.0</td>\n      <td>79.0</td>\n      <td>65.0</td>\n      <td>64.0</td>\n      <td>51.0</td>\n      <td>...</td>\n      <td>38.0</td>\n      <td>75.0</td>\n      <td>69.0</td>\n      <td>45.0</td>\n      <td>35.0</td>\n      <td>55.0</td>\n      <td>52.0</td>\n      <td>47.0</td>\n      <td>56.0</td>\n      <td>0.0</td>\n    </tr>\n    <tr>\n      <th>1835</th>\n      <td>60</td>\n      <td>14</td>\n      <td>2019</td>\n      <td>12</td>\n      <td>47.0</td>\n      <td>53.0</td>\n      <td>45.0</td>\n      <td>44.0</td>\n      <td>49.0</td>\n      <td>41.0</td>\n      <td>...</td>\n      <td>68.0</td>\n      <td>36.0</td>\n      <td>9.0</td>\n      <td>11.0</td>\n      <td>10.0</td>\n      <td>17.0</td>\n      <td>13.0</td>\n      <td>14.0</td>\n      <td>5.0</td>\n      <td>4.0</td>\n    </tr>\n  </tbody>\n</table>\n<p>7266 rows × 35 columns</p>\n</div>"
     },
     "metadata": {},
     "execution_count": 20
    }
   ],
   "source": [
    "# 2. Filtrar las columnas del DataFrame para quedarse con las columnas ESTACION, MAGNITUD, AÑO, MES y las correspondientes a los días D01, D02, etc.\n",
    "\n",
    "columnas=['ESTACION', 'MAGNITUD', 'ANO', 'MES']\n",
    "columnas.extend([col for col in emisiones if col.startswith('D')])\n",
    "emisiones=emisiones[columnas]\n",
    "\n",
    "emisiones"
   ]
  },
  {
   "cell_type": "code",
   "execution_count": 21,
   "metadata": {},
   "outputs": [
    {
     "output_type": "execute_result",
     "data": {
      "text/plain": [
       "        ESTACION  MAGNITUD   ANO  MES  DIA  VALOR\n",
       "0              4         1  2016    1  D01    8.0\n",
       "1              4         1  2016    2  D01   12.0\n",
       "2              4         1  2016    3  D01   11.0\n",
       "3              4         1  2016    4  D01    8.0\n",
       "4              4         1  2016    5  D01    7.0\n",
       "...          ...       ...   ...  ...  ...    ...\n",
       "225241        60        14  2019    8  D31   98.0\n",
       "225242        60        14  2019    9  D31    0.0\n",
       "225243        60        14  2019   10  D31   47.0\n",
       "225244        60        14  2019   11  D31    0.0\n",
       "225245        60        14  2019   12  D31    4.0\n",
       "\n",
       "[225246 rows x 6 columns]"
      ],
      "text/html": "<div>\n<style scoped>\n    .dataframe tbody tr th:only-of-type {\n        vertical-align: middle;\n    }\n\n    .dataframe tbody tr th {\n        vertical-align: top;\n    }\n\n    .dataframe thead th {\n        text-align: right;\n    }\n</style>\n<table border=\"1\" class=\"dataframe\">\n  <thead>\n    <tr style=\"text-align: right;\">\n      <th></th>\n      <th>ESTACION</th>\n      <th>MAGNITUD</th>\n      <th>ANO</th>\n      <th>MES</th>\n      <th>DIA</th>\n      <th>VALOR</th>\n    </tr>\n  </thead>\n  <tbody>\n    <tr>\n      <th>0</th>\n      <td>4</td>\n      <td>1</td>\n      <td>2016</td>\n      <td>1</td>\n      <td>D01</td>\n      <td>8.0</td>\n    </tr>\n    <tr>\n      <th>1</th>\n      <td>4</td>\n      <td>1</td>\n      <td>2016</td>\n      <td>2</td>\n      <td>D01</td>\n      <td>12.0</td>\n    </tr>\n    <tr>\n      <th>2</th>\n      <td>4</td>\n      <td>1</td>\n      <td>2016</td>\n      <td>3</td>\n      <td>D01</td>\n      <td>11.0</td>\n    </tr>\n    <tr>\n      <th>3</th>\n      <td>4</td>\n      <td>1</td>\n      <td>2016</td>\n      <td>4</td>\n      <td>D01</td>\n      <td>8.0</td>\n    </tr>\n    <tr>\n      <th>4</th>\n      <td>4</td>\n      <td>1</td>\n      <td>2016</td>\n      <td>5</td>\n      <td>D01</td>\n      <td>7.0</td>\n    </tr>\n    <tr>\n      <th>...</th>\n      <td>...</td>\n      <td>...</td>\n      <td>...</td>\n      <td>...</td>\n      <td>...</td>\n      <td>...</td>\n    </tr>\n    <tr>\n      <th>225241</th>\n      <td>60</td>\n      <td>14</td>\n      <td>2019</td>\n      <td>8</td>\n      <td>D31</td>\n      <td>98.0</td>\n    </tr>\n    <tr>\n      <th>225242</th>\n      <td>60</td>\n      <td>14</td>\n      <td>2019</td>\n      <td>9</td>\n      <td>D31</td>\n      <td>0.0</td>\n    </tr>\n    <tr>\n      <th>225243</th>\n      <td>60</td>\n      <td>14</td>\n      <td>2019</td>\n      <td>10</td>\n      <td>D31</td>\n      <td>47.0</td>\n    </tr>\n    <tr>\n      <th>225244</th>\n      <td>60</td>\n      <td>14</td>\n      <td>2019</td>\n      <td>11</td>\n      <td>D31</td>\n      <td>0.0</td>\n    </tr>\n    <tr>\n      <th>225245</th>\n      <td>60</td>\n      <td>14</td>\n      <td>2019</td>\n      <td>12</td>\n      <td>D31</td>\n      <td>4.0</td>\n    </tr>\n  </tbody>\n</table>\n<p>225246 rows × 6 columns</p>\n</div>"
     },
     "metadata": {},
     "execution_count": 21
    }
   ],
   "source": [
    "# 3. Reestructurar el DataFrame para que los valores de los contaminantes de las columnas de los días aparezcan en una única columna.\n",
    "\n",
    "emisiones = emisiones.melt(id_vars=['ESTACION', 'MAGNITUD', 'ANO', 'MES'], var_name='DIA', value_name='VALOR')\n",
    "emisiones"
   ]
  },
  {
   "cell_type": "code",
   "execution_count": 22,
   "metadata": {},
   "outputs": [
    {
     "output_type": "execute_result",
     "data": {
      "text/plain": [
       "        ESTACION  MAGNITUD   ANO  MES DIA  VALOR      FECHA\n",
       "0              4         1  2016    1  01    8.0 2016-01-01\n",
       "1              4         1  2016    2  01   12.0 2016-02-01\n",
       "2              4         1  2016    3  01   11.0 2016-03-01\n",
       "3              4         1  2016    4  01    8.0 2016-04-01\n",
       "4              4         1  2016    5  01    7.0 2016-05-01\n",
       "...          ...       ...   ...  ...  ..    ...        ...\n",
       "225241        60        14  2019    8  31   98.0 2019-08-31\n",
       "225242        60        14  2019    9  31    0.0        NaT\n",
       "225243        60        14  2019   10  31   47.0 2019-10-31\n",
       "225244        60        14  2019   11  31    0.0        NaT\n",
       "225245        60        14  2019   12  31    4.0 2019-12-31\n",
       "\n",
       "[225246 rows x 7 columns]"
      ],
      "text/html": "<div>\n<style scoped>\n    .dataframe tbody tr th:only-of-type {\n        vertical-align: middle;\n    }\n\n    .dataframe tbody tr th {\n        vertical-align: top;\n    }\n\n    .dataframe thead th {\n        text-align: right;\n    }\n</style>\n<table border=\"1\" class=\"dataframe\">\n  <thead>\n    <tr style=\"text-align: right;\">\n      <th></th>\n      <th>ESTACION</th>\n      <th>MAGNITUD</th>\n      <th>ANO</th>\n      <th>MES</th>\n      <th>DIA</th>\n      <th>VALOR</th>\n      <th>FECHA</th>\n    </tr>\n  </thead>\n  <tbody>\n    <tr>\n      <th>0</th>\n      <td>4</td>\n      <td>1</td>\n      <td>2016</td>\n      <td>1</td>\n      <td>01</td>\n      <td>8.0</td>\n      <td>2016-01-01</td>\n    </tr>\n    <tr>\n      <th>1</th>\n      <td>4</td>\n      <td>1</td>\n      <td>2016</td>\n      <td>2</td>\n      <td>01</td>\n      <td>12.0</td>\n      <td>2016-02-01</td>\n    </tr>\n    <tr>\n      <th>2</th>\n      <td>4</td>\n      <td>1</td>\n      <td>2016</td>\n      <td>3</td>\n      <td>01</td>\n      <td>11.0</td>\n      <td>2016-03-01</td>\n    </tr>\n    <tr>\n      <th>3</th>\n      <td>4</td>\n      <td>1</td>\n      <td>2016</td>\n      <td>4</td>\n      <td>01</td>\n      <td>8.0</td>\n      <td>2016-04-01</td>\n    </tr>\n    <tr>\n      <th>4</th>\n      <td>4</td>\n      <td>1</td>\n      <td>2016</td>\n      <td>5</td>\n      <td>01</td>\n      <td>7.0</td>\n      <td>2016-05-01</td>\n    </tr>\n    <tr>\n      <th>...</th>\n      <td>...</td>\n      <td>...</td>\n      <td>...</td>\n      <td>...</td>\n      <td>...</td>\n      <td>...</td>\n      <td>...</td>\n    </tr>\n    <tr>\n      <th>225241</th>\n      <td>60</td>\n      <td>14</td>\n      <td>2019</td>\n      <td>8</td>\n      <td>31</td>\n      <td>98.0</td>\n      <td>2019-08-31</td>\n    </tr>\n    <tr>\n      <th>225242</th>\n      <td>60</td>\n      <td>14</td>\n      <td>2019</td>\n      <td>9</td>\n      <td>31</td>\n      <td>0.0</td>\n      <td>NaT</td>\n    </tr>\n    <tr>\n      <th>225243</th>\n      <td>60</td>\n      <td>14</td>\n      <td>2019</td>\n      <td>10</td>\n      <td>31</td>\n      <td>47.0</td>\n      <td>2019-10-31</td>\n    </tr>\n    <tr>\n      <th>225244</th>\n      <td>60</td>\n      <td>14</td>\n      <td>2019</td>\n      <td>11</td>\n      <td>31</td>\n      <td>0.0</td>\n      <td>NaT</td>\n    </tr>\n    <tr>\n      <th>225245</th>\n      <td>60</td>\n      <td>14</td>\n      <td>2019</td>\n      <td>12</td>\n      <td>31</td>\n      <td>4.0</td>\n      <td>2019-12-31</td>\n    </tr>\n  </tbody>\n</table>\n<p>225246 rows × 7 columns</p>\n</div>"
     },
     "metadata": {},
     "execution_count": 22
    }
   ],
   "source": [
    "# 4. Añadir una columna con la fecha a partir de la concatenación del año, el mes y el día (usar el módulo datetime).\n",
    "\n",
    "emisiones.DIA=emisiones.DIA.str.strip('D')\n",
    "emisiones['FECHA']=emisiones.ANO.apply(str) + '/' + emisiones.MES.apply(str) + '/' + emisiones.DIA.apply(str)\n",
    "emisiones['FECHA']=pd.to_datetime(emisiones.FECHA, format='%Y/%m/%d', infer_datetime_format=True, errors='coerce')\n",
    "\n",
    "emisiones"
   ]
  },
  {
   "cell_type": "code",
   "execution_count": 23,
   "metadata": {},
   "outputs": [
    {
     "output_type": "execute_result",
     "data": {
      "text/plain": [
       "        ESTACION  MAGNITUD   ANO  MES DIA  VALOR      FECHA\n",
       "0              4         1  2016    1  01    8.0 2016-01-01\n",
       "7266           4         1  2016    1  02    7.0 2016-01-02\n",
       "14532          4         1  2016    1  03    6.0 2016-01-03\n",
       "21798          4         1  2016    1  04    6.0 2016-01-04\n",
       "29064          4         1  2016    1  05    7.0 2016-01-05\n",
       "...          ...       ...   ...  ...  ..    ...        ...\n",
       "196181        60        14  2019   12  27   17.0 2019-12-27\n",
       "203447        60        14  2019   12  28   13.0 2019-12-28\n",
       "210713        60        14  2019   12  29   14.0 2019-12-29\n",
       "217979        60        14  2019   12  30    5.0 2019-12-30\n",
       "225245        60        14  2019   12  31    4.0 2019-12-31\n",
       "\n",
       "[221158 rows x 7 columns]"
      ],
      "text/html": "<div>\n<style scoped>\n    .dataframe tbody tr th:only-of-type {\n        vertical-align: middle;\n    }\n\n    .dataframe tbody tr th {\n        vertical-align: top;\n    }\n\n    .dataframe thead th {\n        text-align: right;\n    }\n</style>\n<table border=\"1\" class=\"dataframe\">\n  <thead>\n    <tr style=\"text-align: right;\">\n      <th></th>\n      <th>ESTACION</th>\n      <th>MAGNITUD</th>\n      <th>ANO</th>\n      <th>MES</th>\n      <th>DIA</th>\n      <th>VALOR</th>\n      <th>FECHA</th>\n    </tr>\n  </thead>\n  <tbody>\n    <tr>\n      <th>0</th>\n      <td>4</td>\n      <td>1</td>\n      <td>2016</td>\n      <td>1</td>\n      <td>01</td>\n      <td>8.0</td>\n      <td>2016-01-01</td>\n    </tr>\n    <tr>\n      <th>7266</th>\n      <td>4</td>\n      <td>1</td>\n      <td>2016</td>\n      <td>1</td>\n      <td>02</td>\n      <td>7.0</td>\n      <td>2016-01-02</td>\n    </tr>\n    <tr>\n      <th>14532</th>\n      <td>4</td>\n      <td>1</td>\n      <td>2016</td>\n      <td>1</td>\n      <td>03</td>\n      <td>6.0</td>\n      <td>2016-01-03</td>\n    </tr>\n    <tr>\n      <th>21798</th>\n      <td>4</td>\n      <td>1</td>\n      <td>2016</td>\n      <td>1</td>\n      <td>04</td>\n      <td>6.0</td>\n      <td>2016-01-04</td>\n    </tr>\n    <tr>\n      <th>29064</th>\n      <td>4</td>\n      <td>1</td>\n      <td>2016</td>\n      <td>1</td>\n      <td>05</td>\n      <td>7.0</td>\n      <td>2016-01-05</td>\n    </tr>\n    <tr>\n      <th>...</th>\n      <td>...</td>\n      <td>...</td>\n      <td>...</td>\n      <td>...</td>\n      <td>...</td>\n      <td>...</td>\n      <td>...</td>\n    </tr>\n    <tr>\n      <th>196181</th>\n      <td>60</td>\n      <td>14</td>\n      <td>2019</td>\n      <td>12</td>\n      <td>27</td>\n      <td>17.0</td>\n      <td>2019-12-27</td>\n    </tr>\n    <tr>\n      <th>203447</th>\n      <td>60</td>\n      <td>14</td>\n      <td>2019</td>\n      <td>12</td>\n      <td>28</td>\n      <td>13.0</td>\n      <td>2019-12-28</td>\n    </tr>\n    <tr>\n      <th>210713</th>\n      <td>60</td>\n      <td>14</td>\n      <td>2019</td>\n      <td>12</td>\n      <td>29</td>\n      <td>14.0</td>\n      <td>2019-12-29</td>\n    </tr>\n    <tr>\n      <th>217979</th>\n      <td>60</td>\n      <td>14</td>\n      <td>2019</td>\n      <td>12</td>\n      <td>30</td>\n      <td>5.0</td>\n      <td>2019-12-30</td>\n    </tr>\n    <tr>\n      <th>225245</th>\n      <td>60</td>\n      <td>14</td>\n      <td>2019</td>\n      <td>12</td>\n      <td>31</td>\n      <td>4.0</td>\n      <td>2019-12-31</td>\n    </tr>\n  </tbody>\n</table>\n<p>221158 rows × 7 columns</p>\n</div>"
     },
     "metadata": {},
     "execution_count": 23
    }
   ],
   "source": [
    "# 5. Eliminar las filas con fechas no válidas (utilizar la función isnat del módulo numpy) y ordenar el DataFrame por estaciones, contaminantes y fecha.\n",
    "\n",
    "emisiones=emisiones.drop(emisiones[np.isnat(emisiones.FECHA)].index)\n",
    "emisiones.sort_values(['ESTACION', 'MAGNITUD', 'FECHA'])"
   ]
  },
  {
   "cell_type": "code",
   "execution_count": 24,
   "metadata": {},
   "outputs": [
    {
     "output_type": "stream",
     "name": "stdout",
     "text": [
      "Estaciones disponibles:  [ 4  8 11 16 17 18 24 27 35 36 38 39 40 47 48 49 50 54 55 56 57 58 59 60]\nMagnitudes disponibles:  [ 1  6  7  8 12  9 10 14 20 30 35 42 43 44]\n"
     ]
    }
   ],
   "source": [
    "# 6. Mostrar por pantalla las estaciones y los contaminantes disponibles en el DataFrame.\n",
    "\n",
    "print(\"Estaciones disponibles: \", emisiones.ESTACION.unique())\n",
    "print(\"Magnitudes disponibles: \", emisiones.MAGNITUD.unique())"
   ]
  },
  {
   "cell_type": "code",
   "execution_count": 25,
   "metadata": {},
   "outputs": [
    {
     "output_type": "execute_result",
     "data": {
      "text/plain": [
       "179559    89.0\n",
       "186825    87.0\n",
       "194091    46.0\n",
       "201357    38.0\n",
       "208623    29.0\n",
       "          ... \n",
       "57841     82.0\n",
       "65107     64.0\n",
       "72373     26.0\n",
       "79639     59.0\n",
       "86905     71.0\n",
       "Name: VALOR, Length: 111, dtype: float64"
      ]
     },
     "metadata": {},
     "execution_count": 25
    }
   ],
   "source": [
    "# 7. Crear una función que reciba una estación, un contaminante y un rango de fechas y devuelva una serie con las emisiones del contaminante dado en la estación y rango de fechas dado.\n",
    "\n",
    "def evolucion(estacion, contaminante, desde, hasta):\n",
    "    return emisiones[(emisiones.ESTACION==estacion) & (emisiones.MAGNITUD==contaminante) & (emisiones.FECHA>=desde) & (emisiones.FECHA<=hasta)].sort_values('FECHA').VALOR\n",
    "\n",
    "evolucion(56, 8, dt.datetime.strptime('2018/10/25', '%Y/%m/%d'), dt.datetime.strptime('2019/02/12', '%Y/%m/%d'))"
   ]
  },
  {
   "cell_type": "code",
   "execution_count": 26,
   "metadata": {},
   "outputs": [
    {
     "output_type": "stream",
     "name": "stdout",
     "text": [
      "            count       mean         std   min    25%    50%    75%       max\nMAGNITUD                                                                     \n1         14610.0   7.428953    7.012504  0.00   4.00   7.00  10.00    610.00\n6         14610.0   0.350233    0.215935  0.00   0.20   0.30   0.40     14.90\n7         35064.0  20.446412  135.123509  0.00   4.00   9.00  23.00  24742.00\n8         35064.0  37.677618   20.118050  0.00  22.00  35.00  50.00    148.00\n9          8948.0  10.087729   10.643591  0.00   6.00   9.00  13.00    850.00\n10        17897.0  18.772923   35.723619  0.00  10.00  16.00  24.00   4481.00\n12        35064.0  67.959417   61.443940  0.00  29.00  48.00  84.00   1005.00\n14        20454.0  49.941772   24.753120  0.00  31.00  52.00  69.00    336.00\n20         8766.0   2.364944    4.236706  0.00   0.80   1.60   2.80    195.00\n30         8766.0   0.531371    0.538180  0.00   0.20   0.40   0.70     15.10\n35         8766.0   0.479751    1.183618  0.00   0.10   0.20   0.50     35.70\n42         4383.0   1.400897    0.251836 -0.01   1.25   1.38   1.54      3.09\n43         4383.0   1.292923    0.230898 -0.14   1.17   1.28   1.43      2.77\n44         4383.0   0.108941    0.068776  0.00   0.06   0.10   0.14      1.31\n"
     ]
    }
   ],
   "source": [
    "# 8. Mostrar un resumen descriptivo (mímino, máximo, media, etc) para cada contaminante.\n",
    "\n",
    "print(emisiones.groupby(\"MAGNITUD\").VALOR.describe())"
   ]
  },
  {
   "cell_type": "code",
   "execution_count": 27,
   "metadata": {},
   "outputs": [
    {
     "output_type": "execute_result",
     "data": {
      "text/plain": [
       "                    count       mean        std  min   25%   50%    75%    max\n",
       "ESTACION MAGNITUD                                                             \n",
       "4        1         1461.0   7.329911  16.379050  1.0   4.0   7.0    9.0  610.0\n",
       "         6         1461.0   0.411499   0.172902  0.1   0.3   0.4    0.5    1.3\n",
       "         7         1461.0  31.939767  37.667968  0.0   8.0  16.0   42.0  239.0\n",
       "         8         1461.0  44.398357  17.766063  0.0  31.0  43.0   55.0  105.0\n",
       "         12        1461.0  93.341547  72.436531  0.0  44.0  69.0  119.0  467.0\n",
       "...                   ...        ...        ...  ...   ...   ...    ...    ...\n",
       "60       7         1461.0  12.326489  19.593109  1.0   2.0   4.0   12.0  151.0\n",
       "         8         1461.0  31.125941  18.101896  3.0  18.0  27.0   41.0  101.0\n",
       "         10        1461.0  17.033539  12.205022  1.0   9.0  14.0   21.0  215.0\n",
       "         12        1461.0  50.023956  45.933843  6.0  22.0  33.0   60.0  328.0\n",
       "         14        1461.0  60.718001  26.309952  4.0  42.0  65.0   81.0  119.0\n",
       "\n",
       "[153 rows x 8 columns]"
      ],
      "text/html": "<div>\n<style scoped>\n    .dataframe tbody tr th:only-of-type {\n        vertical-align: middle;\n    }\n\n    .dataframe tbody tr th {\n        vertical-align: top;\n    }\n\n    .dataframe thead th {\n        text-align: right;\n    }\n</style>\n<table border=\"1\" class=\"dataframe\">\n  <thead>\n    <tr style=\"text-align: right;\">\n      <th></th>\n      <th></th>\n      <th>count</th>\n      <th>mean</th>\n      <th>std</th>\n      <th>min</th>\n      <th>25%</th>\n      <th>50%</th>\n      <th>75%</th>\n      <th>max</th>\n    </tr>\n    <tr>\n      <th>ESTACION</th>\n      <th>MAGNITUD</th>\n      <th></th>\n      <th></th>\n      <th></th>\n      <th></th>\n      <th></th>\n      <th></th>\n      <th></th>\n      <th></th>\n    </tr>\n  </thead>\n  <tbody>\n    <tr>\n      <th rowspan=\"5\" valign=\"top\">4</th>\n      <th>1</th>\n      <td>1461.0</td>\n      <td>7.329911</td>\n      <td>16.379050</td>\n      <td>1.0</td>\n      <td>4.0</td>\n      <td>7.0</td>\n      <td>9.0</td>\n      <td>610.0</td>\n    </tr>\n    <tr>\n      <th>6</th>\n      <td>1461.0</td>\n      <td>0.411499</td>\n      <td>0.172902</td>\n      <td>0.1</td>\n      <td>0.3</td>\n      <td>0.4</td>\n      <td>0.5</td>\n      <td>1.3</td>\n    </tr>\n    <tr>\n      <th>7</th>\n      <td>1461.0</td>\n      <td>31.939767</td>\n      <td>37.667968</td>\n      <td>0.0</td>\n      <td>8.0</td>\n      <td>16.0</td>\n      <td>42.0</td>\n      <td>239.0</td>\n    </tr>\n    <tr>\n      <th>8</th>\n      <td>1461.0</td>\n      <td>44.398357</td>\n      <td>17.766063</td>\n      <td>0.0</td>\n      <td>31.0</td>\n      <td>43.0</td>\n      <td>55.0</td>\n      <td>105.0</td>\n    </tr>\n    <tr>\n      <th>12</th>\n      <td>1461.0</td>\n      <td>93.341547</td>\n      <td>72.436531</td>\n      <td>0.0</td>\n      <td>44.0</td>\n      <td>69.0</td>\n      <td>119.0</td>\n      <td>467.0</td>\n    </tr>\n    <tr>\n      <th>...</th>\n      <th>...</th>\n      <td>...</td>\n      <td>...</td>\n      <td>...</td>\n      <td>...</td>\n      <td>...</td>\n      <td>...</td>\n      <td>...</td>\n      <td>...</td>\n    </tr>\n    <tr>\n      <th rowspan=\"5\" valign=\"top\">60</th>\n      <th>7</th>\n      <td>1461.0</td>\n      <td>12.326489</td>\n      <td>19.593109</td>\n      <td>1.0</td>\n      <td>2.0</td>\n      <td>4.0</td>\n      <td>12.0</td>\n      <td>151.0</td>\n    </tr>\n    <tr>\n      <th>8</th>\n      <td>1461.0</td>\n      <td>31.125941</td>\n      <td>18.101896</td>\n      <td>3.0</td>\n      <td>18.0</td>\n      <td>27.0</td>\n      <td>41.0</td>\n      <td>101.0</td>\n    </tr>\n    <tr>\n      <th>10</th>\n      <td>1461.0</td>\n      <td>17.033539</td>\n      <td>12.205022</td>\n      <td>1.0</td>\n      <td>9.0</td>\n      <td>14.0</td>\n      <td>21.0</td>\n      <td>215.0</td>\n    </tr>\n    <tr>\n      <th>12</th>\n      <td>1461.0</td>\n      <td>50.023956</td>\n      <td>45.933843</td>\n      <td>6.0</td>\n      <td>22.0</td>\n      <td>33.0</td>\n      <td>60.0</td>\n      <td>328.0</td>\n    </tr>\n    <tr>\n      <th>14</th>\n      <td>1461.0</td>\n      <td>60.718001</td>\n      <td>26.309952</td>\n      <td>4.0</td>\n      <td>42.0</td>\n      <td>65.0</td>\n      <td>81.0</td>\n      <td>119.0</td>\n    </tr>\n  </tbody>\n</table>\n<p>153 rows × 8 columns</p>\n</div>"
     },
     "metadata": {},
     "execution_count": 27
    }
   ],
   "source": [
    "# 9. Mostrar un resumen descriptivo para cada contaminente por distritos.\n",
    "\n",
    "emisiones.groupby(['ESTACION', 'MAGNITUD']).VALOR.describe()"
   ]
  },
  {
   "cell_type": "code",
   "execution_count": 28,
   "metadata": {},
   "outputs": [
    {
     "output_type": "execute_result",
     "data": {
      "text/plain": [
       "count    1461.000000\n",
       "mean       55.113621\n",
       "std        21.911483\n",
       "min         0.000000\n",
       "25%        39.000000\n",
       "50%        53.000000\n",
       "75%        69.000000\n",
       "max       142.000000\n",
       "Name: VALOR, dtype: float64"
      ]
     },
     "metadata": {},
     "execution_count": 28
    }
   ],
   "source": [
    "# 10. Crear una función que reciba una estación y un contaminante y devuelva un resumen descriptivo de las emisiones del contaminante indicado en la estadión indicada.\n",
    "\n",
    "def resumen(estacion, magnitud):\n",
    "    return emisiones[(emisiones.ESTACION==estacion) & (emisiones.MAGNITUD==magnitud)].VALOR.describe()\n",
    "\n",
    "resumen(56, 8)"
   ]
  },
  {
   "cell_type": "code",
   "execution_count": 29,
   "metadata": {},
   "outputs": [
    {
     "output_type": "execute_result",
     "data": {
      "text/plain": [
       "MES              1          2          3          4          5          6   \\\n",
       "ESTACION                                                                     \n",
       "4         61.129032  62.000000  44.677419  36.033333  33.451613  36.700000   \n",
       "8         74.516129  77.071429  57.064516  48.466667  43.032258  41.933333   \n",
       "11        58.516129  59.571429  37.709677  32.066667  26.064516  31.733333   \n",
       "16        54.387097  56.892857  35.451613  27.933333  20.354839  24.666667   \n",
       "17        65.967742  70.142857  43.161290  29.400000  22.548387  25.133333   \n",
       "18        55.161290  54.821429  35.645161  24.300000  19.967742  21.033333   \n",
       "24        37.516129  38.464286  21.645161  13.100000  10.806452  12.000000   \n",
       "27        47.580645  48.214286  35.709677  27.566667  22.903226  26.233333   \n",
       "35        54.548387  51.857143  31.903226  21.700000  22.548387  26.033333   \n",
       "36        58.870968  58.678571  37.645161  29.333333  21.354839  24.800000   \n",
       "38        62.193548  59.357143  38.032258  29.333333  25.935484  25.366667   \n",
       "39        63.354839  62.214286  37.483871  25.566667  19.483871  25.200000   \n",
       "40        58.967742  57.357143  36.387097  28.433333  21.967742  24.033333   \n",
       "47        53.548387  52.571429  36.322581  23.600000  21.354839  18.966667   \n",
       "48        55.709677  57.178571  34.677419  26.466667  17.967742  24.633333   \n",
       "49        45.580645  42.035714  25.870968  17.366667  14.354839  13.900000   \n",
       "50        57.741935  56.214286  36.741935  32.466667  24.000000  30.233333   \n",
       "54        60.774194  59.321429  38.354839  27.900000  24.645161  22.066667   \n",
       "55        63.548387  61.750000  44.161290  31.233333  25.419355  26.633333   \n",
       "56        77.483871  82.428571  61.064516  46.900000  44.032258  41.100000   \n",
       "57        53.967742  52.321429  31.290323  25.000000  17.354839  20.766667   \n",
       "58        24.774194  24.071429  15.483871  11.166667   9.483871  12.266667   \n",
       "59        39.064516  40.964286  25.322581  19.666667  13.741935  16.833333   \n",
       "60        42.032258  44.750000  25.129032  21.033333  14.580645  18.233333   \n",
       "\n",
       "MES              7          8          9          10         11         12  \n",
       "ESTACION                                                                    \n",
       "4         36.838710  34.064516  35.400000  33.451613  21.800000  40.806452  \n",
       "8         36.387097  24.612903  45.233333  55.000000  42.033333  49.870968  \n",
       "11        33.451613  28.322581  36.966667  48.451613  31.800000  47.612903  \n",
       "16        25.258065  24.548387  31.266667  41.935484  29.500000  40.677419  \n",
       "17        27.161290  29.322581  36.933333  47.774194  30.566667  44.516129  \n",
       "18        22.322581  23.419355  25.833333  41.225806  25.400000  39.193548  \n",
       "24        13.322581  13.903226  20.600000  27.000000  12.166667  26.258065  \n",
       "27        27.032258  31.677419  35.966667  49.000000  30.133333  45.774194  \n",
       "35        35.322581  33.096774  37.533333  45.193548  30.133333  41.483871  \n",
       "36        25.677419  25.935484  31.500000  43.838710  32.300000  43.354839  \n",
       "38        22.096774  21.161290  37.033333  47.064516  29.200000  45.870968  \n",
       "39        25.483871  24.870968  30.466667  47.290323  27.133333  42.774194  \n",
       "40        26.419355  26.548387  34.733333  44.580645  30.966667  41.709677  \n",
       "47        23.903226  26.806452  33.666667  43.645161  26.733333  39.193548  \n",
       "48        24.903226  20.870968  27.333333  43.967742  33.666667  43.000000  \n",
       "49        16.129032  16.322581  19.433333  31.838710  22.200000  33.935484  \n",
       "50        28.967742  26.258065  32.233333  44.709677  31.766667  41.709677  \n",
       "54        23.806452  26.225806  34.266667  46.967742  32.900000  45.967742  \n",
       "55        26.064516  28.225806  32.833333  45.000000  27.833333  44.064516  \n",
       "56        45.838710  44.580645  52.100000  57.225806  35.133333  51.903226  \n",
       "57        21.903226  21.677419  25.900000  37.806452  26.000000  38.193548  \n",
       "58        12.322581  12.935484  15.433333  21.645161  11.900000  18.935484  \n",
       "59        14.225806  14.774194  22.866667  35.290323  23.400000  32.387097  \n",
       "60        22.000000  16.096774  19.466667  20.806452  15.733333  42.870968  "
      ],
      "text/html": "<div>\n<style scoped>\n    .dataframe tbody tr th:only-of-type {\n        vertical-align: middle;\n    }\n\n    .dataframe tbody tr th {\n        vertical-align: top;\n    }\n\n    .dataframe thead th {\n        text-align: right;\n    }\n</style>\n<table border=\"1\" class=\"dataframe\">\n  <thead>\n    <tr style=\"text-align: right;\">\n      <th>MES</th>\n      <th>1</th>\n      <th>2</th>\n      <th>3</th>\n      <th>4</th>\n      <th>5</th>\n      <th>6</th>\n      <th>7</th>\n      <th>8</th>\n      <th>9</th>\n      <th>10</th>\n      <th>11</th>\n      <th>12</th>\n    </tr>\n    <tr>\n      <th>ESTACION</th>\n      <th></th>\n      <th></th>\n      <th></th>\n      <th></th>\n      <th></th>\n      <th></th>\n      <th></th>\n      <th></th>\n      <th></th>\n      <th></th>\n      <th></th>\n      <th></th>\n    </tr>\n  </thead>\n  <tbody>\n    <tr>\n      <th>4</th>\n      <td>61.129032</td>\n      <td>62.000000</td>\n      <td>44.677419</td>\n      <td>36.033333</td>\n      <td>33.451613</td>\n      <td>36.700000</td>\n      <td>36.838710</td>\n      <td>34.064516</td>\n      <td>35.400000</td>\n      <td>33.451613</td>\n      <td>21.800000</td>\n      <td>40.806452</td>\n    </tr>\n    <tr>\n      <th>8</th>\n      <td>74.516129</td>\n      <td>77.071429</td>\n      <td>57.064516</td>\n      <td>48.466667</td>\n      <td>43.032258</td>\n      <td>41.933333</td>\n      <td>36.387097</td>\n      <td>24.612903</td>\n      <td>45.233333</td>\n      <td>55.000000</td>\n      <td>42.033333</td>\n      <td>49.870968</td>\n    </tr>\n    <tr>\n      <th>11</th>\n      <td>58.516129</td>\n      <td>59.571429</td>\n      <td>37.709677</td>\n      <td>32.066667</td>\n      <td>26.064516</td>\n      <td>31.733333</td>\n      <td>33.451613</td>\n      <td>28.322581</td>\n      <td>36.966667</td>\n      <td>48.451613</td>\n      <td>31.800000</td>\n      <td>47.612903</td>\n    </tr>\n    <tr>\n      <th>16</th>\n      <td>54.387097</td>\n      <td>56.892857</td>\n      <td>35.451613</td>\n      <td>27.933333</td>\n      <td>20.354839</td>\n      <td>24.666667</td>\n      <td>25.258065</td>\n      <td>24.548387</td>\n      <td>31.266667</td>\n      <td>41.935484</td>\n      <td>29.500000</td>\n      <td>40.677419</td>\n    </tr>\n    <tr>\n      <th>17</th>\n      <td>65.967742</td>\n      <td>70.142857</td>\n      <td>43.161290</td>\n      <td>29.400000</td>\n      <td>22.548387</td>\n      <td>25.133333</td>\n      <td>27.161290</td>\n      <td>29.322581</td>\n      <td>36.933333</td>\n      <td>47.774194</td>\n      <td>30.566667</td>\n      <td>44.516129</td>\n    </tr>\n    <tr>\n      <th>18</th>\n      <td>55.161290</td>\n      <td>54.821429</td>\n      <td>35.645161</td>\n      <td>24.300000</td>\n      <td>19.967742</td>\n      <td>21.033333</td>\n      <td>22.322581</td>\n      <td>23.419355</td>\n      <td>25.833333</td>\n      <td>41.225806</td>\n      <td>25.400000</td>\n      <td>39.193548</td>\n    </tr>\n    <tr>\n      <th>24</th>\n      <td>37.516129</td>\n      <td>38.464286</td>\n      <td>21.645161</td>\n      <td>13.100000</td>\n      <td>10.806452</td>\n      <td>12.000000</td>\n      <td>13.322581</td>\n      <td>13.903226</td>\n      <td>20.600000</td>\n      <td>27.000000</td>\n      <td>12.166667</td>\n      <td>26.258065</td>\n    </tr>\n    <tr>\n      <th>27</th>\n      <td>47.580645</td>\n      <td>48.214286</td>\n      <td>35.709677</td>\n      <td>27.566667</td>\n      <td>22.903226</td>\n      <td>26.233333</td>\n      <td>27.032258</td>\n      <td>31.677419</td>\n      <td>35.966667</td>\n      <td>49.000000</td>\n      <td>30.133333</td>\n      <td>45.774194</td>\n    </tr>\n    <tr>\n      <th>35</th>\n      <td>54.548387</td>\n      <td>51.857143</td>\n      <td>31.903226</td>\n      <td>21.700000</td>\n      <td>22.548387</td>\n      <td>26.033333</td>\n      <td>35.322581</td>\n      <td>33.096774</td>\n      <td>37.533333</td>\n      <td>45.193548</td>\n      <td>30.133333</td>\n      <td>41.483871</td>\n    </tr>\n    <tr>\n      <th>36</th>\n      <td>58.870968</td>\n      <td>58.678571</td>\n      <td>37.645161</td>\n      <td>29.333333</td>\n      <td>21.354839</td>\n      <td>24.800000</td>\n      <td>25.677419</td>\n      <td>25.935484</td>\n      <td>31.500000</td>\n      <td>43.838710</td>\n      <td>32.300000</td>\n      <td>43.354839</td>\n    </tr>\n    <tr>\n      <th>38</th>\n      <td>62.193548</td>\n      <td>59.357143</td>\n      <td>38.032258</td>\n      <td>29.333333</td>\n      <td>25.935484</td>\n      <td>25.366667</td>\n      <td>22.096774</td>\n      <td>21.161290</td>\n      <td>37.033333</td>\n      <td>47.064516</td>\n      <td>29.200000</td>\n      <td>45.870968</td>\n    </tr>\n    <tr>\n      <th>39</th>\n      <td>63.354839</td>\n      <td>62.214286</td>\n      <td>37.483871</td>\n      <td>25.566667</td>\n      <td>19.483871</td>\n      <td>25.200000</td>\n      <td>25.483871</td>\n      <td>24.870968</td>\n      <td>30.466667</td>\n      <td>47.290323</td>\n      <td>27.133333</td>\n      <td>42.774194</td>\n    </tr>\n    <tr>\n      <th>40</th>\n      <td>58.967742</td>\n      <td>57.357143</td>\n      <td>36.387097</td>\n      <td>28.433333</td>\n      <td>21.967742</td>\n      <td>24.033333</td>\n      <td>26.419355</td>\n      <td>26.548387</td>\n      <td>34.733333</td>\n      <td>44.580645</td>\n      <td>30.966667</td>\n      <td>41.709677</td>\n    </tr>\n    <tr>\n      <th>47</th>\n      <td>53.548387</td>\n      <td>52.571429</td>\n      <td>36.322581</td>\n      <td>23.600000</td>\n      <td>21.354839</td>\n      <td>18.966667</td>\n      <td>23.903226</td>\n      <td>26.806452</td>\n      <td>33.666667</td>\n      <td>43.645161</td>\n      <td>26.733333</td>\n      <td>39.193548</td>\n    </tr>\n    <tr>\n      <th>48</th>\n      <td>55.709677</td>\n      <td>57.178571</td>\n      <td>34.677419</td>\n      <td>26.466667</td>\n      <td>17.967742</td>\n      <td>24.633333</td>\n      <td>24.903226</td>\n      <td>20.870968</td>\n      <td>27.333333</td>\n      <td>43.967742</td>\n      <td>33.666667</td>\n      <td>43.000000</td>\n    </tr>\n    <tr>\n      <th>49</th>\n      <td>45.580645</td>\n      <td>42.035714</td>\n      <td>25.870968</td>\n      <td>17.366667</td>\n      <td>14.354839</td>\n      <td>13.900000</td>\n      <td>16.129032</td>\n      <td>16.322581</td>\n      <td>19.433333</td>\n      <td>31.838710</td>\n      <td>22.200000</td>\n      <td>33.935484</td>\n    </tr>\n    <tr>\n      <th>50</th>\n      <td>57.741935</td>\n      <td>56.214286</td>\n      <td>36.741935</td>\n      <td>32.466667</td>\n      <td>24.000000</td>\n      <td>30.233333</td>\n      <td>28.967742</td>\n      <td>26.258065</td>\n      <td>32.233333</td>\n      <td>44.709677</td>\n      <td>31.766667</td>\n      <td>41.709677</td>\n    </tr>\n    <tr>\n      <th>54</th>\n      <td>60.774194</td>\n      <td>59.321429</td>\n      <td>38.354839</td>\n      <td>27.900000</td>\n      <td>24.645161</td>\n      <td>22.066667</td>\n      <td>23.806452</td>\n      <td>26.225806</td>\n      <td>34.266667</td>\n      <td>46.967742</td>\n      <td>32.900000</td>\n      <td>45.967742</td>\n    </tr>\n    <tr>\n      <th>55</th>\n      <td>63.548387</td>\n      <td>61.750000</td>\n      <td>44.161290</td>\n      <td>31.233333</td>\n      <td>25.419355</td>\n      <td>26.633333</td>\n      <td>26.064516</td>\n      <td>28.225806</td>\n      <td>32.833333</td>\n      <td>45.000000</td>\n      <td>27.833333</td>\n      <td>44.064516</td>\n    </tr>\n    <tr>\n      <th>56</th>\n      <td>77.483871</td>\n      <td>82.428571</td>\n      <td>61.064516</td>\n      <td>46.900000</td>\n      <td>44.032258</td>\n      <td>41.100000</td>\n      <td>45.838710</td>\n      <td>44.580645</td>\n      <td>52.100000</td>\n      <td>57.225806</td>\n      <td>35.133333</td>\n      <td>51.903226</td>\n    </tr>\n    <tr>\n      <th>57</th>\n      <td>53.967742</td>\n      <td>52.321429</td>\n      <td>31.290323</td>\n      <td>25.000000</td>\n      <td>17.354839</td>\n      <td>20.766667</td>\n      <td>21.903226</td>\n      <td>21.677419</td>\n      <td>25.900000</td>\n      <td>37.806452</td>\n      <td>26.000000</td>\n      <td>38.193548</td>\n    </tr>\n    <tr>\n      <th>58</th>\n      <td>24.774194</td>\n      <td>24.071429</td>\n      <td>15.483871</td>\n      <td>11.166667</td>\n      <td>9.483871</td>\n      <td>12.266667</td>\n      <td>12.322581</td>\n      <td>12.935484</td>\n      <td>15.433333</td>\n      <td>21.645161</td>\n      <td>11.900000</td>\n      <td>18.935484</td>\n    </tr>\n    <tr>\n      <th>59</th>\n      <td>39.064516</td>\n      <td>40.964286</td>\n      <td>25.322581</td>\n      <td>19.666667</td>\n      <td>13.741935</td>\n      <td>16.833333</td>\n      <td>14.225806</td>\n      <td>14.774194</td>\n      <td>22.866667</td>\n      <td>35.290323</td>\n      <td>23.400000</td>\n      <td>32.387097</td>\n    </tr>\n    <tr>\n      <th>60</th>\n      <td>42.032258</td>\n      <td>44.750000</td>\n      <td>25.129032</td>\n      <td>21.033333</td>\n      <td>14.580645</td>\n      <td>18.233333</td>\n      <td>22.000000</td>\n      <td>16.096774</td>\n      <td>19.466667</td>\n      <td>20.806452</td>\n      <td>15.733333</td>\n      <td>42.870968</td>\n    </tr>\n  </tbody>\n</table>\n</div>"
     },
     "metadata": {},
     "execution_count": 29
    }
   ],
   "source": [
    "# 11. Crear una función que devuelva las emisiones medias mensuales de un contaminante y un año dados para todos las estaciones.\n",
    "\n",
    "def evolucion_mensual(contaminante, ano):\n",
    "    return emisiones[(emisiones.MAGNITUD==contaminante) & (emisiones.ANO==ano)].groupby(['ESTACION', 'MES']).VALOR.mean().unstack('MES')\n",
    "\n",
    "evolucion_mensual(8, 2019)"
   ]
  },
  {
   "cell_type": "code",
   "execution_count": 30,
   "metadata": {},
   "outputs": [
    {
     "output_type": "execute_result",
     "data": {
      "text/plain": [
       "MES                    1           2           3          4          5   \\\n",
       "MAGNITUD ANO                                                              \n",
       "1        2016    8.354839    8.551724    8.612903   8.066667   7.354839   \n",
       "         2017    7.774194    6.000000    5.580645   4.666667   4.580645   \n",
       "         2018    3.064516    3.000000    1.774194   2.133333   2.161290   \n",
       "         2019   16.580645   17.107143   14.548387   2.533333   1.967742   \n",
       "6        2016    0.432258    0.368966    0.370968   0.330000   0.300000   \n",
       "         2017    0.522581    0.389286    0.361290   0.416667   0.377419   \n",
       "         2018    0.516129    0.478571    0.354839   0.370000   0.345161   \n",
       "         2019    0.687097    0.653571    0.470968   0.400000   0.319355   \n",
       "7        2016   45.516129   35.586207   24.483871  20.233333  17.193548   \n",
       "         2017   69.967742   42.178571   35.935484  21.733333  15.290323   \n",
       "         2018   53.580645   32.142857    7.483871  12.133333   8.903226   \n",
       "         2019   77.096774   61.928571   23.741935  12.366667  10.516129   \n",
       "8        2016   42.935484   37.241379   40.129032  37.733333  36.774194   \n",
       "         2017   57.225806   50.892857   45.451613  41.966667  40.483871   \n",
       "         2018   46.838710   48.285714   31.387097  35.833333  36.387097   \n",
       "         2019   61.129032   62.000000   44.677419  36.033333  33.451613   \n",
       "12       2016  112.677419   91.827586   77.806452  68.533333  63.096774   \n",
       "         2017  164.419355  115.500000  100.483871  75.300000  63.709677   \n",
       "         2018  128.935484   97.535714   42.967742  54.466667  50.000000   \n",
       "         2019  179.387097  156.964286   80.903226  54.866667  49.419355   \n",
       "\n",
       "MES                   6          7          8           9           10  \\\n",
       "MAGNITUD ANO                                                             \n",
       "1        2016   7.266667   7.032258   7.000000    8.100000    7.387097   \n",
       "         2017   4.866667   5.193548   5.451613    6.333333    4.354839   \n",
       "         2018   2.300000   5.612903   8.354839    9.133333   32.193548   \n",
       "         2019   1.866667   4.677419   7.612903    8.000000    9.580645   \n",
       "6        2016   0.273333   0.248387   0.251613    0.346667    0.490323   \n",
       "         2017   0.353333   0.335484   0.329032    0.453333    0.574194   \n",
       "         2018   0.303333   0.283871   0.322581    0.380000    0.390323   \n",
       "         2019   0.316667   0.316129   0.322581    0.356667    0.435484   \n",
       "7        2016  17.800000  11.225806   8.225806   29.866667   61.645161   \n",
       "         2017  13.966667  14.774194  10.161290   29.733333   61.193548   \n",
       "         2018  11.466667  10.838710  11.903226   23.600000   37.000000   \n",
       "         2019   9.700000   8.903226   8.290323   15.533333   29.096774   \n",
       "8        2016  40.300000  41.709677  37.387097   57.400000   60.387097   \n",
       "         2017  44.300000  41.903226  35.903226   52.066667   63.677419   \n",
       "         2018  37.200000  38.290323  41.225806   53.800000   47.741935   \n",
       "         2019  36.700000  36.838710  34.064516   35.400000   33.451613   \n",
       "12       2016  67.633333  59.032258  50.064516  103.166667  154.870968   \n",
       "         2017  65.500000  64.774194  51.580645   97.433333  157.548387   \n",
       "         2018  54.833333  54.870968  59.548387   90.166667  104.290323   \n",
       "         2019  51.400000  50.451613  46.838710   59.200000   78.161290   \n",
       "\n",
       "MES                    11          12  \n",
       "MAGNITUD ANO                           \n",
       "1        2016    4.033333    8.129032  \n",
       "         2017    4.566667    3.677419  \n",
       "         2018   13.000000   14.548387  \n",
       "         2019    9.933333    7.032258  \n",
       "6        2016    0.453333    0.648387  \n",
       "         2017    0.676667    0.574194  \n",
       "         2018    0.456667    0.680645  \n",
       "         2019    0.333333    0.393548  \n",
       "7        2016   58.400000  107.419355  \n",
       "         2017   87.000000   65.806452  \n",
       "         2018   34.400000   83.064516  \n",
       "         2019   12.066667   32.903226  \n",
       "8        2016   54.066667   61.161290  \n",
       "         2017   66.166667   53.516129  \n",
       "         2018   42.833333   55.870968  \n",
       "         2019   21.800000   40.806452  \n",
       "12       2016  143.600000  225.774194  \n",
       "         2017  199.466667  154.258065  \n",
       "         2018   95.533333  183.129032  \n",
       "         2019   40.200000   91.322581  "
      ],
      "text/html": "<div>\n<style scoped>\n    .dataframe tbody tr th:only-of-type {\n        vertical-align: middle;\n    }\n\n    .dataframe tbody tr th {\n        vertical-align: top;\n    }\n\n    .dataframe thead th {\n        text-align: right;\n    }\n</style>\n<table border=\"1\" class=\"dataframe\">\n  <thead>\n    <tr style=\"text-align: right;\">\n      <th></th>\n      <th>MES</th>\n      <th>1</th>\n      <th>2</th>\n      <th>3</th>\n      <th>4</th>\n      <th>5</th>\n      <th>6</th>\n      <th>7</th>\n      <th>8</th>\n      <th>9</th>\n      <th>10</th>\n      <th>11</th>\n      <th>12</th>\n    </tr>\n    <tr>\n      <th>MAGNITUD</th>\n      <th>ANO</th>\n      <th></th>\n      <th></th>\n      <th></th>\n      <th></th>\n      <th></th>\n      <th></th>\n      <th></th>\n      <th></th>\n      <th></th>\n      <th></th>\n      <th></th>\n      <th></th>\n    </tr>\n  </thead>\n  <tbody>\n    <tr>\n      <th rowspan=\"4\" valign=\"top\">1</th>\n      <th>2016</th>\n      <td>8.354839</td>\n      <td>8.551724</td>\n      <td>8.612903</td>\n      <td>8.066667</td>\n      <td>7.354839</td>\n      <td>7.266667</td>\n      <td>7.032258</td>\n      <td>7.000000</td>\n      <td>8.100000</td>\n      <td>7.387097</td>\n      <td>4.033333</td>\n      <td>8.129032</td>\n    </tr>\n    <tr>\n      <th>2017</th>\n      <td>7.774194</td>\n      <td>6.000000</td>\n      <td>5.580645</td>\n      <td>4.666667</td>\n      <td>4.580645</td>\n      <td>4.866667</td>\n      <td>5.193548</td>\n      <td>5.451613</td>\n      <td>6.333333</td>\n      <td>4.354839</td>\n      <td>4.566667</td>\n      <td>3.677419</td>\n    </tr>\n    <tr>\n      <th>2018</th>\n      <td>3.064516</td>\n      <td>3.000000</td>\n      <td>1.774194</td>\n      <td>2.133333</td>\n      <td>2.161290</td>\n      <td>2.300000</td>\n      <td>5.612903</td>\n      <td>8.354839</td>\n      <td>9.133333</td>\n      <td>32.193548</td>\n      <td>13.000000</td>\n      <td>14.548387</td>\n    </tr>\n    <tr>\n      <th>2019</th>\n      <td>16.580645</td>\n      <td>17.107143</td>\n      <td>14.548387</td>\n      <td>2.533333</td>\n      <td>1.967742</td>\n      <td>1.866667</td>\n      <td>4.677419</td>\n      <td>7.612903</td>\n      <td>8.000000</td>\n      <td>9.580645</td>\n      <td>9.933333</td>\n      <td>7.032258</td>\n    </tr>\n    <tr>\n      <th rowspan=\"4\" valign=\"top\">6</th>\n      <th>2016</th>\n      <td>0.432258</td>\n      <td>0.368966</td>\n      <td>0.370968</td>\n      <td>0.330000</td>\n      <td>0.300000</td>\n      <td>0.273333</td>\n      <td>0.248387</td>\n      <td>0.251613</td>\n      <td>0.346667</td>\n      <td>0.490323</td>\n      <td>0.453333</td>\n      <td>0.648387</td>\n    </tr>\n    <tr>\n      <th>2017</th>\n      <td>0.522581</td>\n      <td>0.389286</td>\n      <td>0.361290</td>\n      <td>0.416667</td>\n      <td>0.377419</td>\n      <td>0.353333</td>\n      <td>0.335484</td>\n      <td>0.329032</td>\n      <td>0.453333</td>\n      <td>0.574194</td>\n      <td>0.676667</td>\n      <td>0.574194</td>\n    </tr>\n    <tr>\n      <th>2018</th>\n      <td>0.516129</td>\n      <td>0.478571</td>\n      <td>0.354839</td>\n      <td>0.370000</td>\n      <td>0.345161</td>\n      <td>0.303333</td>\n      <td>0.283871</td>\n      <td>0.322581</td>\n      <td>0.380000</td>\n      <td>0.390323</td>\n      <td>0.456667</td>\n      <td>0.680645</td>\n    </tr>\n    <tr>\n      <th>2019</th>\n      <td>0.687097</td>\n      <td>0.653571</td>\n      <td>0.470968</td>\n      <td>0.400000</td>\n      <td>0.319355</td>\n      <td>0.316667</td>\n      <td>0.316129</td>\n      <td>0.322581</td>\n      <td>0.356667</td>\n      <td>0.435484</td>\n      <td>0.333333</td>\n      <td>0.393548</td>\n    </tr>\n    <tr>\n      <th rowspan=\"4\" valign=\"top\">7</th>\n      <th>2016</th>\n      <td>45.516129</td>\n      <td>35.586207</td>\n      <td>24.483871</td>\n      <td>20.233333</td>\n      <td>17.193548</td>\n      <td>17.800000</td>\n      <td>11.225806</td>\n      <td>8.225806</td>\n      <td>29.866667</td>\n      <td>61.645161</td>\n      <td>58.400000</td>\n      <td>107.419355</td>\n    </tr>\n    <tr>\n      <th>2017</th>\n      <td>69.967742</td>\n      <td>42.178571</td>\n      <td>35.935484</td>\n      <td>21.733333</td>\n      <td>15.290323</td>\n      <td>13.966667</td>\n      <td>14.774194</td>\n      <td>10.161290</td>\n      <td>29.733333</td>\n      <td>61.193548</td>\n      <td>87.000000</td>\n      <td>65.806452</td>\n    </tr>\n    <tr>\n      <th>2018</th>\n      <td>53.580645</td>\n      <td>32.142857</td>\n      <td>7.483871</td>\n      <td>12.133333</td>\n      <td>8.903226</td>\n      <td>11.466667</td>\n      <td>10.838710</td>\n      <td>11.903226</td>\n      <td>23.600000</td>\n      <td>37.000000</td>\n      <td>34.400000</td>\n      <td>83.064516</td>\n    </tr>\n    <tr>\n      <th>2019</th>\n      <td>77.096774</td>\n      <td>61.928571</td>\n      <td>23.741935</td>\n      <td>12.366667</td>\n      <td>10.516129</td>\n      <td>9.700000</td>\n      <td>8.903226</td>\n      <td>8.290323</td>\n      <td>15.533333</td>\n      <td>29.096774</td>\n      <td>12.066667</td>\n      <td>32.903226</td>\n    </tr>\n    <tr>\n      <th rowspan=\"4\" valign=\"top\">8</th>\n      <th>2016</th>\n      <td>42.935484</td>\n      <td>37.241379</td>\n      <td>40.129032</td>\n      <td>37.733333</td>\n      <td>36.774194</td>\n      <td>40.300000</td>\n      <td>41.709677</td>\n      <td>37.387097</td>\n      <td>57.400000</td>\n      <td>60.387097</td>\n      <td>54.066667</td>\n      <td>61.161290</td>\n    </tr>\n    <tr>\n      <th>2017</th>\n      <td>57.225806</td>\n      <td>50.892857</td>\n      <td>45.451613</td>\n      <td>41.966667</td>\n      <td>40.483871</td>\n      <td>44.300000</td>\n      <td>41.903226</td>\n      <td>35.903226</td>\n      <td>52.066667</td>\n      <td>63.677419</td>\n      <td>66.166667</td>\n      <td>53.516129</td>\n    </tr>\n    <tr>\n      <th>2018</th>\n      <td>46.838710</td>\n      <td>48.285714</td>\n      <td>31.387097</td>\n      <td>35.833333</td>\n      <td>36.387097</td>\n      <td>37.200000</td>\n      <td>38.290323</td>\n      <td>41.225806</td>\n      <td>53.800000</td>\n      <td>47.741935</td>\n      <td>42.833333</td>\n      <td>55.870968</td>\n    </tr>\n    <tr>\n      <th>2019</th>\n      <td>61.129032</td>\n      <td>62.000000</td>\n      <td>44.677419</td>\n      <td>36.033333</td>\n      <td>33.451613</td>\n      <td>36.700000</td>\n      <td>36.838710</td>\n      <td>34.064516</td>\n      <td>35.400000</td>\n      <td>33.451613</td>\n      <td>21.800000</td>\n      <td>40.806452</td>\n    </tr>\n    <tr>\n      <th rowspan=\"4\" valign=\"top\">12</th>\n      <th>2016</th>\n      <td>112.677419</td>\n      <td>91.827586</td>\n      <td>77.806452</td>\n      <td>68.533333</td>\n      <td>63.096774</td>\n      <td>67.633333</td>\n      <td>59.032258</td>\n      <td>50.064516</td>\n      <td>103.166667</td>\n      <td>154.870968</td>\n      <td>143.600000</td>\n      <td>225.774194</td>\n    </tr>\n    <tr>\n      <th>2017</th>\n      <td>164.419355</td>\n      <td>115.500000</td>\n      <td>100.483871</td>\n      <td>75.300000</td>\n      <td>63.709677</td>\n      <td>65.500000</td>\n      <td>64.774194</td>\n      <td>51.580645</td>\n      <td>97.433333</td>\n      <td>157.548387</td>\n      <td>199.466667</td>\n      <td>154.258065</td>\n    </tr>\n    <tr>\n      <th>2018</th>\n      <td>128.935484</td>\n      <td>97.535714</td>\n      <td>42.967742</td>\n      <td>54.466667</td>\n      <td>50.000000</td>\n      <td>54.833333</td>\n      <td>54.870968</td>\n      <td>59.548387</td>\n      <td>90.166667</td>\n      <td>104.290323</td>\n      <td>95.533333</td>\n      <td>183.129032</td>\n    </tr>\n    <tr>\n      <th>2019</th>\n      <td>179.387097</td>\n      <td>156.964286</td>\n      <td>80.903226</td>\n      <td>54.866667</td>\n      <td>49.419355</td>\n      <td>51.400000</td>\n      <td>50.451613</td>\n      <td>46.838710</td>\n      <td>59.200000</td>\n      <td>78.161290</td>\n      <td>40.200000</td>\n      <td>91.322581</td>\n    </tr>\n  </tbody>\n</table>\n</div>"
     },
     "metadata": {},
     "execution_count": 30
    }
   ],
   "source": [
    "# 12. Crear un función que reciba una estación de medición y devuelva un DataFrame con las medias mensuales de los distintos tipos de contaminantes.\n",
    "\n",
    "def medidas_mensuales(estacion):\n",
    "    return emisiones[emisiones.ESTACION==estacion].groupby(['MAGNITUD', 'ANO', 'MES']).VALOR.mean().unstack('MES')\n",
    "\n",
    "medidas_mensuales(4)"
   ]
  },
  {
   "cell_type": "code",
   "execution_count": null,
   "metadata": {},
   "outputs": [],
   "source": []
  }
 ]
}